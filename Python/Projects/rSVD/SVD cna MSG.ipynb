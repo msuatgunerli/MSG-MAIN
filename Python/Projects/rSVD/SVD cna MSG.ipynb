{
 "cells": [
  {
   "cell_type": "code",
   "execution_count": null,
   "metadata": {},
   "outputs": [],
   "source": [
    "import matplotlib.pyplot as plt\n",
    "from matplotlib.image import imread\n",
    "import numpy as np\n",
    "import os\n",
    "import scipy.io\n",
    "from skimage import color\n",
    "from skimage import io\n",
    "from PIL import Image as im"
   ]
  },
  {
   "cell_type": "code",
   "execution_count": null,
   "metadata": {
    "scrolled": true
   },
   "outputs": [],
   "source": [
    "plt.rcParams['figure.figsize'] = [8, 8]\n",
    "plt.rcParams.update({'font.size': 18})\n",
    "\n",
    "mat_contents = scipy.io.loadmat(os.path.join('allFaces.mat'))\n",
    "faces = mat_contents['faces']\n",
    "m = int(mat_contents['m'])\n",
    "n = int(mat_contents['n'])\n",
    "nfaces = np.ndarray.flatten(mat_contents['nfaces'])\n",
    "\n",
    "# We use the first 36 people for training data\n",
    "trainingFaces = faces[:,:np.sum(nfaces[:36])]\n",
    "avgFace = np.mean(trainingFaces,axis=1) # size n*m by 1\n",
    "\n",
    "# Compute eigenfaces on mean-subtracted training data\n",
    "X = trainingFaces - np.tile(avgFace,(trainingFaces.shape[1],1)).T\n",
    "U, S, VT = np.linalg.svd(X,full_matrices=0)\n",
    "\n",
    "fig1 = plt.figure()\n",
    "ax1 = fig1.add_subplot(121)\n",
    "img_avg = ax1.imshow(np.reshape(avgFace,(m,n)).T)\n",
    "img_avg.set_cmap('gray')\n",
    "plt.axis('off')\n",
    "\n",
    "ax2 = fig1.add_subplot(122)\n",
    "img_u1 = ax2.imshow(np.reshape(U[:,0],(m,n)).T)\n",
    "img_u1.set_cmap('gray')\n",
    "plt.axis('off')\n",
    "\n",
    "plt.show()"
   ]
  },
  {
   "cell_type": "code",
   "execution_count": null,
   "metadata": {},
   "outputs": [],
   "source": [
    "img = plt.imshow(np.reshape(U[:,0],(m,n)).T)\n",
    "img.set_cmap('gray')\n",
    "plt.axis('off')\n",
    "plt.show()"
   ]
  },
  {
   "cell_type": "code",
   "execution_count": null,
   "metadata": {},
   "outputs": [],
   "source": [
    "sizeEFs = (n*8, m*8)\n",
    "EigenFaces = np.zeros(sizeEFs)\n",
    "count = 1\n",
    "\n",
    "imagelist = []\n",
    "index = []\n",
    "\n",
    "for i in range(1,9):\n",
    "    for j in range(1,9):\n",
    "        EigenFaces[(i-1)*n : i*n , (j-1)*m : j*m] = np.reshape(U[: , count], (n,m))\n",
    "        count = count + 1\n",
    "\n",
    "for i in range(1,9):\n",
    "    for j in range(1,9):\n",
    "        index.append('img' + str(i+j-1))\n",
    "        imagelist.append(np.reshape(EigenFaces[(i-1)*192:i*192,(j-1)*168:j*168],(m,n)).T)\n",
    "\n",
    "dictionary = dict(zip(index, imagelist))\n",
    "\n",
    "for q in range(1,64):\n",
    "    plt.imshow(imagelist[q])\n",
    "    plt.set_cmap('gray')"
   ]
  },
  {
   "cell_type": "code",
   "execution_count": null,
   "metadata": {},
   "outputs": [],
   "source": [
    "for z in range(1,64):\n",
    "    fig = plt.figure(figsize=(192, 168))\n",
    "    ax = fig.add_subplot(8, 8, z)\n",
    "    imgplot = plt.imshow(imagelist[z-1])\n",
    "    plt.axis('off')"
   ]
  },
  {
   "cell_type": "code",
   "execution_count": null,
   "metadata": {},
   "outputs": [],
   "source": [
    "test_tup1 = EigenFaces.shape\n",
    "test_tup2 = (8,8)\n",
    "res = tuple(ele1 // ele2 for ele1, ele2 in zip(test_tup1, test_tup2))\n",
    "res\n",
    "test_tup1"
   ]
  },
  {
   "cell_type": "code",
   "execution_count": null,
   "metadata": {},
   "outputs": [],
   "source": [
    "## Now show eigenface reconstruction of image that was omitted from test set\n",
    "\n",
    "img0 = io.imread('dog.jpg')\n",
    "img1 = color.rgb2gray(img0).astype(float)\n",
    "img2 = img1.T\n",
    "img3 = img2.flatten()\n",
    "testFace = img3\n",
    "\n",
    "plt.imshow(np.reshape(testFace,(m,n)).T)\n",
    "plt.set_cmap('gray')\n",
    "plt.title('Original Image')\n",
    "plt.axis('off')\n",
    "plt.show()\n",
    "\n",
    "testFaceMS = testFace - avgFace\n",
    "r_list = [25, 16000]\n",
    "\n",
    "for r in r_list:\n",
    "    reconFace = avgFace + U[:,:r]  @ U[:,:r].T @ testFaceMS\n",
    "    img = plt.imshow(np.reshape(reconFace,(m,n)).T)\n",
    "    img.set_cmap('gray')\n",
    "    plt.title('r = ' + str(r))\n",
    "    plt.axis('off')\n",
    "    plt.show()"
   ]
  },
  {
   "cell_type": "code",
   "execution_count": null,
   "metadata": {},
   "outputs": [],
   "source": [
    "## Project person 2 and 7 onto PC5 and PC6\n",
    "\n",
    "P1num = 2 # Person number 2\n",
    "P2num = 7 # Person number 7\n",
    "\n",
    "P1 = faces[:,np.sum(nfaces[:(P1num-1)]):np.sum(nfaces[:P1num])]\n",
    "P2 = faces[:,np.sum(nfaces[:(P2num-1)]):np.sum(nfaces[:P2num])]\n",
    "\n",
    "P1 = P1 - np.tile(avgFace,(P1.shape[1],1)).T\n",
    "P2 = P2 - np.tile(avgFace,(P2.shape[1],1)).T\n",
    "\n",
    "PCAmodes = [5, 6] # Project onto PCA modes 5 and 6\n",
    "PCACoordsP1 = U[:,PCAmodes-np.ones_like(PCAmodes)].T @ P1\n",
    "PCACoordsP2 = U[:,PCAmodes-np.ones_like(PCAmodes)].T @ P2\n",
    "\n",
    "plt.plot(PCACoordsP1[0,:],PCACoordsP1[1,:],'d',Color='k',label='Person 2')\n",
    "plt.plot(PCACoordsP2[0,:],PCACoordsP2[1,:],'^',Color='r',label='Person 7')\n",
    "\n",
    "plt.legend()\n",
    "plt.show()"
   ]
  }
 ],
 "metadata": {
  "kernelspec": {
   "display_name": "Python 3",
   "language": "python",
   "name": "python3"
  },
  "language_info": {
   "codemirror_mode": {
    "name": "ipython",
    "version": 3
   },
   "file_extension": ".py",
   "mimetype": "text/x-python",
   "name": "python",
   "nbconvert_exporter": "python",
   "pygments_lexer": "ipython3",
   "version": "3.8.5"
  }
 },
 "nbformat": 4,
 "nbformat_minor": 2
}