{
 "cells": [
  {
   "cell_type": "code",
   "execution_count": null,
   "metadata": {},
   "outputs": [],
   "source": [
    "import matplotlib.pyplot as plt\n",
    "from matplotlib.image import imread\n",
    "import numpy as np\n",
    "import os\n",
    "import scipy.io\n",
    "from skimage import color\n",
    "from skimage import io\n",
    "\n",
    "plt.rcParams['figure.figsize'] = [8, 8]\n",
    "plt.rcParams.update({'font.size': 18})"
   ]
  },
  {
   "cell_type": "code",
   "execution_count": null,
   "metadata": {},
   "outputs": [],
   "source": [
    "mat_contents = scipy.io.loadmat('allFaces.mat')\n",
    "faces = mat_contents['faces']\n",
    "\n",
    "m = int(mat_contents['m'])\n",
    "n = int(mat_contents['n'])\n",
    "nfaces = np.ndarray.flatten(mat_contents['nfaces'])\n",
    "\n",
    "# We use the first 36 people for training data\n",
    "trainingFaces = faces[:,:np.sum(nfaces[:36])]\n",
    "avgFace = np.mean(trainingFaces,axis=1) # size n*m by 1\n",
    "\n",
    "# Create mean-subtracted training data\n",
    "X = trainingFaces - np.tile(avgFace,(trainingFaces.shape[1],1)).T"
   ]
  },
  {
   "cell_type": "code",
   "execution_count": null,
   "metadata": {},
   "outputs": [],
   "source": [
    "allPersons = np.zeros((n*6,m*6))\n",
    "count = 0\n",
    "\n",
    "for j in range(6):\n",
    "    for k in range(6):\n",
    "        allPersons[j*n : (j+1)*n, k*m : (k+1)*m] = np.reshape(faces[:,np.sum(nfaces[:count])],(m,n)).T\n",
    "        count += 1\n",
    "        \n",
    "img = plt.imshow(allPersons)\n",
    "img.set_cmap('gray')\n",
    "plt.axis('off')\n",
    "plt.show()"
   ]
  },
  {
   "cell_type": "code",
   "execution_count": null,
   "metadata": {},
   "outputs": [],
   "source": [
    "# Define randomized SVD function\n",
    "def rSVD(X,r,q,p):\n",
    "    # Step 1: Sample column space of X with P matrix\n",
    "    ny = X.shape[1]\n",
    "    P = np.random.randn(ny,r+p)\n",
    "    Z = X @ P\n",
    "    for k in range(q):\n",
    "        Z = X @ (X.T @ Z)\n",
    "\n",
    "    Q, R = np.linalg.qr(Z,mode='reduced')\n",
    "\n",
    "    # Step 2: Compute SVD on projected Y = Q.T @ X\n",
    "    Y = Q.T @ X\n",
    "    UY, S, VT = np.linalg.svd(Y,full_matrices=0)\n",
    "    U = Q @ UY\n",
    "\n",
    "    return U, S, VT"
   ]
  },
  {
   "cell_type": "code",
   "execution_count": null,
   "metadata": {},
   "outputs": [],
   "source": [
    "#X = np.mean(A,axis=2) # Convert RGB -> grayscale\n",
    "\n",
    "r = 400 # Target rank\n",
    "q = 1   # Power iterations\n",
    "p = 5   # Oversampling parameter\n",
    "\n",
    "# Compute eigenfaces on mean-subtracted training data\n",
    "\n",
    "rU, rS, rVT = rSVD(X,r,q,p)"
   ]
  },
  {
   "cell_type": "code",
   "execution_count": null,
   "metadata": {},
   "outputs": [],
   "source": [
    "fig1 = plt.figure()\n",
    "ax1 = fig1.add_subplot(121)\n",
    "img_avg = ax1.imshow(np.reshape(avgFace,(m,n)).T)\n",
    "img_avg.set_cmap('gray')\n",
    "plt.axis('off')\n",
    "\n",
    "ax2 = fig1.add_subplot(122)\n",
    "img_u1 = ax2.imshow(np.reshape(rU[:,0],(m,n)).T)\n",
    "img_u1.set_cmap('gray')\n",
    "plt.axis('off')\n",
    "\n",
    "plt.show()"
   ]
  },
  {
   "cell_type": "code",
   "execution_count": null,
   "metadata": {},
   "outputs": [],
   "source": [
    "## Reconstruction\n",
    "XrSVD = rU[:,:(r+1)] @ np.diag(rS[:(r+1)]) @ rVT[:(r+1),:] # SVD approximation\n",
    "errSVD = np.linalg.norm(X-XrSVD,ord=2) / np.linalg.norm(X,ord=2)"
   ]
  },
  {
   "cell_type": "code",
   "execution_count": null,
   "metadata": {},
   "outputs": [],
   "source": [
    "'''## Now show eigenface reconstruction of image that was omitted from test set\n",
    "\n",
    "testFace = faces[:,np.sum(nfaces[:36])] # First face of person 37\n",
    "plt.imshow(np.reshape(testFace,(m,n)).T)\n",
    "plt.set_cmap('gray')\n",
    "plt.title('Original Image')\n",
    "plt.axis('off')\n",
    "plt.show()\n",
    "\n",
    "testFaceMS = testFace - avgFace\n",
    "r_list = [25, 1600]\n",
    "\n",
    "for r in r_list:\n",
    "    reconFace = avgFace + rU[:,:r]  @ rU[:,:r].T @ testFaceMS\n",
    "    img = plt.imshow(np.reshape(reconFace,(m,n)).T)\n",
    "    img.set_cmap('gray')\n",
    "    plt.title('r = ' + str(r))\n",
    "    plt.axis('off')\n",
    "    plt.show()'''"
   ]
  },
  {
   "cell_type": "code",
   "execution_count": null,
   "metadata": {},
   "outputs": [],
   "source": [
    "img0 = io.imread('cna.jpg')\n",
    "img1 = color.rgb2gray(img0).astype(float)\n",
    "img2 = img1.T\n",
    "img3 = img2.flatten()\n",
    "testFace = img3\n",
    "\n",
    "plt.imshow(np.reshape(testFace,(m,n)).T)\n",
    "plt.set_cmap('gray')\n",
    "plt.title('Original Image')\n",
    "plt.axis('off')\n",
    "plt.show()\n",
    "\n",
    "testFaceMS = testFace - avgFace\n",
    "r_list = [25, 32000]\n",
    "\n",
    "for r in r_list:\n",
    "    reconFace = avgFace + rU[:,:r]  @ rU[:,:r].T @ testFaceMS\n",
    "    img = plt.imshow(np.reshape(reconFace,(m,n)).T)\n",
    "    img.set_cmap('gray')\n",
    "    plt.title('r = ' + str(r))\n",
    "    plt.axis('off')\n",
    "    plt.show()"
   ]
  },
  {
   "cell_type": "code",
   "execution_count": null,
   "metadata": {},
   "outputs": [],
   "source": [
    "'''## Plot\n",
    "fig, axs = plt.subplots(1,2)\n",
    "\n",
    "plt.set_cmap('gray')\n",
    "axs[0].imshow(X[1,:])\n",
    "axs[0].axis('off')\n",
    "axs[1].imshow(XrSVD[1,:])\n",
    "axs[1].axis('off')\n",
    "\n",
    "plt.show()'''"
   ]
  },
  {
   "cell_type": "code",
   "execution_count": null,
   "metadata": {},
   "outputs": [],
   "source": [
    "\"\"\"## Illustrate power iterations\n",
    "X = np.random.randn(1000,100)\n",
    "U, S, VT = np.linalg.svd(X,full_matrices=0)\n",
    "S = np.arange(1,0,-0.01)\n",
    "X = U @ np.diag(S) @ VT\n",
    "\n",
    "color_list = np.array([[0,0,2/3],  # Define color map\n",
    "                 [0,0,1],\n",
    "                 [0,1/3,1],\n",
    "                 [0,2/3,1],\n",
    "                 [0,1,1],\n",
    "                 [1/3,1,2/3],\n",
    "                 [2/3,1,1/3],\n",
    "                 [1,1,0],\n",
    "                 [1,2/3,0],\n",
    "                 [1,1/3,0],\n",
    "                 [1,0,0],\n",
    "                 [2/3,0,0]])\n",
    "\n",
    "plt.plot(S,'o-',color='k',LineWidth=2,label='SVD')\n",
    "\n",
    "Y = X\n",
    "for q in range(1,6):\n",
    "    Y = X.T @ Y\n",
    "    Y = X @ Y\n",
    "    Uq, Sq, VTq = np.linalg.svd(Y,full_matrices=0)\n",
    "    plt.plot(Sq,'-o',color=tuple(color_list[2*q+1]),LineWidth=2,label='rSVD, q = '+str(q))\n",
    "\n",
    "plt.legend()\n",
    "plt.show()\"\"\""
   ]
  }
 ],
 "metadata": {
  "kernelspec": {
   "display_name": "Python 3",
   "language": "python",
   "name": "python3"
  },
  "language_info": {
   "codemirror_mode": {
    "name": "ipython",
    "version": 3
   },
   "file_extension": ".py",
   "mimetype": "text/x-python",
   "name": "python",
   "nbconvert_exporter": "python",
   "pygments_lexer": "ipython3",
   "version": "3.8.5"
  }
 },
 "nbformat": 4,
 "nbformat_minor": 2
}