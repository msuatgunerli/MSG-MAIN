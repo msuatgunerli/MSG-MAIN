{
 "metadata": {
  "language_info": {
   "codemirror_mode": {
    "name": "ipython",
    "version": 3
   },
   "file_extension": ".py",
   "mimetype": "text/x-python",
   "name": "python",
   "nbconvert_exporter": "python",
   "pygments_lexer": "ipython3",
   "version": "3.8.5-final"
  },
  "orig_nbformat": 2,
  "kernelspec": {
   "name": "python3",
   "display_name": "Python 3",
   "language": "python"
  }
 },
 "nbformat": 4,
 "nbformat_minor": 2,
 "cells": [
  {
   "cell_type": "code",
   "execution_count": 12,
   "metadata": {},
   "outputs": [],
   "source": [
    "import pandas as pd\n",
    "import matplotlib.pyplot as plt\n",
    "import matplotlib as mpl\n",
    "import seaborn as sns\n",
    "import numpy as np\n",
    "import scipy as sp\n",
    "from pylab import text\n",
    "\n",
    "import highlight_text"
   ]
  },
  {
   "cell_type": "code",
   "execution_count": 13,
   "metadata": {},
   "outputs": [],
   "source": [
    "filenames = []\n",
    "draftyears = []"
   ]
  },
  {
   "cell_type": "code",
   "execution_count": 14,
   "metadata": {},
   "outputs": [],
   "source": [
    "#EKLEYİNCE DEĞİŞTİR\n",
    "\n",
    "for x in range(19,21):\n",
    "\n",
    "    df_name = 'df'+str(x)\n",
    "    csv_name = 'MLS_20' + str(x)+'.txt'\n",
    "    draft_name = 'MLS_20' + str(x)+ '_Draft'+'.csv'\n",
    "\n",
    "    filenames.append(csv_name)\n",
    "    draftyears.append(draft_name)"
   ]
  },
  {
   "cell_type": "code",
   "execution_count": 15,
   "metadata": {},
   "outputs": [],
   "source": [
    "dataframes = []\n",
    "drafts = []"
   ]
  },
  {
   "cell_type": "code",
   "execution_count": 16,
   "metadata": {},
   "outputs": [],
   "source": [
    "for filename in filenames:\n",
    "    dataframes.append(pd.read_csv(filename))\n",
    "\n",
    "for draftyear in draftyears:\n",
    "    drafts.append(pd.read_csv(draftyear))"
   ]
  },
  {
   "cell_type": "code",
   "execution_count": 17,
   "metadata": {},
   "outputs": [],
   "source": [
    "#EKLEYİNCE DEĞİŞTİR\n",
    "\n",
    "df19 = dataframes[0]\n",
    "df20 = dataframes[1]\n",
    "\n",
    "draft19 = drafts[0]\n",
    "draft19 = draft19.dropna(subset=['Position'])\n",
    "draft20 = drafts[1]\n",
    "draft20 = draft20.dropna(subset=['Position'])"
   ]
  },
  {
   "cell_type": "code",
   "execution_count": 18,
   "metadata": {},
   "outputs": [],
   "source": [
    "for y in range (0,2):\n",
    "    dataframes[y]['Player'] = dataframes[y]['Player'].str.split('\\\\',expand=True)[0]"
   ]
  },
  {
   "cell_type": "code",
   "execution_count": 19,
   "metadata": {},
   "outputs": [],
   "source": [
    "#df19_row = df19[df19['Player'] == 'Lalas Abubakar'] # groupby yapmadan önce çalışıyor sonrasında çalışmıyor\n",
    "#df19_row"
   ]
  },
  {
   "cell_type": "code",
   "execution_count": 20,
   "metadata": {},
   "outputs": [],
   "source": [
    "#EKLEYİNCE DEĞİŞTİR\n",
    "\n",
    "df19 = df19[['Player','Min','90s']]\n",
    "df19 = df19.dropna(subset=['Min'])\n",
    "df19 = df19.sort_values(by=['Player'])\n",
    "df19 = df19.groupby('Player')['Min','90s'].sum().reset_index() #groupby yapınca df yapısı bozuluyor elementlara eskisi gibi ulaşmak mümkün değil, reset indexle düzelt\n",
    "\n",
    "df20 = df20[['Player','Min','90s']]\n",
    "df20 = df20.dropna(subset=['Min'])\n",
    "df20.sort_values(by=['Player'])\n",
    "df20 = df20.groupby('Player')['Min','90s'].sum().reset_index()"
   ]
  },
  {
   "cell_type": "code",
   "execution_count": 26,
   "metadata": {},
   "outputs": [],
   "source": [
    "#EKLEYİNCE DEĞİŞTİR\n",
    "rook19 = pd.merge(df19, draft19, on ='Player')\n",
    "rook20 = pd.merge(df20, draft20, on ='Player')\n",
    "soph20 = pd.merge(df20, draft19, on ='Player')"
   ]
  },
  {
   "cell_type": "code",
   "execution_count": 27,
   "metadata": {},
   "outputs": [
    {
     "output_type": "stream",
     "name": "stdout",
     "text": [
      "           Player     Min   90s  Rank          College Position\n0     Amar Sejdic    67.0   0.7    34         Maryland        M\n1    DeJuan Jones  1297.0  14.4    11   Michigan State        F\n2  Griffin Dorsey     4.0   0.0     6         Indiana       M/F\n3  Hassani Dotson  1410.0  15.7    31    Oregon State        M \n4     John Nelson   455.0   5.1    10  North Carolina         D\n5    Kamal Miller  1350.0  15.0    27         Syracuse       D \n6   Rashawn Dally   544.0   6.0    49       Quinnipiac       M \n7  Tajon Buchanan   392.0   4.4     9         Syracuse        F\n            Player     Min   90s  Rank          College Position\n0      Amar Sejdic   688.0   7.6    34         Maryland        M\n1  Dayne St. Clair  1170.0  13.0     7        Maryland       GK \n2     DeJuan Jones  1134.0  12.6    11   Michigan State        F\n3   Griffin Dorsey     5.0   0.1     6         Indiana       M/F\n4   Hassani Dotson  1214.0  13.5    31    Oregon State        M \n5      John Nelson   707.0   7.9    10  North Carolina         D\n6     Kamal Miller   806.0   9.0    27         Syracuse       D \n7    Rashawn Dally    70.0   0.8    49       Quinnipiac       M \n8       Sam Junqua   256.0   2.8     8       California        D\n9   Tajon Buchanan  1087.0  12.1     9         Syracuse        F\n          Player    Min  90s  Rank          College Position\n0    Jack Skahan   12.0  0.1    27   North Carolina      D/F\n1    Joey DeZart  377.0  4.2    31      Wake Forest       M \n2  Tanner Beason  810.0  9.0    12        Stanford         D\n"
     ]
    }
   ],
   "source": [
    "#EKLEYİNCE DEĞİŞTİR\n",
    "print(rook19)\n",
    "print(soph20)\n",
    "print(rook20)\n"
   ]
  }
 ]
}