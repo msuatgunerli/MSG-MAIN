{
 "metadata": {
  "language_info": {
   "codemirror_mode": {
    "name": "ipython",
    "version": 3
   },
   "file_extension": ".py",
   "mimetype": "text/x-python",
   "name": "python",
   "nbconvert_exporter": "python",
   "pygments_lexer": "ipython3",
   "version": "3.8.5-final"
  },
  "orig_nbformat": 2,
  "kernelspec": {
   "name": "python3",
   "display_name": "Python 3",
   "language": "python"
  }
 },
 "nbformat": 4,
 "nbformat_minor": 2,
 "cells": [
  {
   "cell_type": "code",
   "execution_count": 185,
   "metadata": {},
   "outputs": [],
   "source": [
    "import pandas as pd\n",
    "import matplotlib.pyplot as plt\n",
    "import matplotlib as mpl\n",
    "import seaborn as sns\n",
    "import numpy as np\n",
    "import scipy as sp\n",
    "from pylab import text\n",
    "from soccerplots.radar_chart import Radar\n",
    "\n",
    "import highlight_text"
   ]
  },
  {
   "cell_type": "code",
   "execution_count": 186,
   "metadata": {},
   "outputs": [],
   "source": [
    "Player_1 = 'Younes Belhanda 2017/2018'\n",
    "Player_2 = 'Younes Belhanda 2018/2019'\n",
    "Player_3 = 'Younes Belhanda 2019/2020'\n",
    "Player_4 = 'Younes Belhanda 2020/2021'\n",
    "Color_1 = 'white'\n",
    "Color_2 = 'red'\n",
    "Color_3 = 'yellow'\n",
    "Color_4 = 'dodgerblue'"
   ]
  },
  {
   "cell_type": "code",
   "execution_count": 187,
   "metadata": {},
   "outputs": [],
   "source": [
    "df = pd.read_csv('Belhanda Galatasaray Stats.csv')\n",
    "df.columns = df.columns.str.replace(' ', '') \n",
    "Keep1 = pd.unique(df['Player'])\n",
    "Keep1[:] = Keep1[::-1]\n",
    "Keep1 = pd.DataFrame(Keep1, columns = ['Player'])\n",
    "df = df.groupby('Season').sum().reset_index()\n",
    "Keep2 = df[['Season','Minutes']]"
   ]
  },
  {
   "cell_type": "code",
   "execution_count": 188,
   "metadata": {},
   "outputs": [
    {
     "output_type": "execute_result",
     "data": {
      "text/plain": [
       "                      Player     Season  Minutes  TacklesSuccessful  \\\n",
       "0  Younes Belhanda 2017/2018  2017/2018     2445           1.803681   \n",
       "1  Younes Belhanda 2018/2019  2018/2019     2363           1.713923   \n",
       "2  Younes Belhanda 2019/2020  2019/2020     2069           1.304978   \n",
       "3  Younes Belhanda 2020/2021  2020/2021     1411           1.403260   \n",
       "\n",
       "   TacklesUnsuccessful  TacklesTotal  Interceptions  FoulsWon  FoulsCommited  \\\n",
       "0             1.582822      3.386503       1.067485  1.730061       1.840491   \n",
       "1             1.409226      3.123149       0.685569  1.599661       1.409226   \n",
       "2             0.826486      2.131464       0.608990  1.130981       1.435476   \n",
       "3             1.084337      2.487597       0.637845  1.084337       0.892984   \n",
       "\n",
       "   YellowCards  ...  AerialsLost  PassesTotal  PassesSuccessfulLong  \\\n",
       "0     0.147239  ...     0.588957    56.061350              1.987730   \n",
       "1     0.342785  ...     0.914092    51.646212              1.523487   \n",
       "2     0.347994  ...     0.826486    54.156597              1.739971   \n",
       "3     0.191354  ...     0.892984    49.688164              2.423813   \n",
       "\n",
       "   PassesUnsuccessfulLong  PassesSuccessfulShort  PassesUnsuccessfulShort  \\\n",
       "0                1.325153              42.993865                 9.754601   \n",
       "1                1.066441              40.981803                 8.074482   \n",
       "2                0.782987              44.630256                 7.003383   \n",
       "3                0.701630              39.673990                 6.888731   \n",
       "\n",
       "   KeyPassesTotal  KeyPassesLong  KeyPassesShort   Assists  \n",
       "0        2.981595       0.883436        2.098160  0.294479  \n",
       "1        2.704190       0.647482        2.056708  0.228523  \n",
       "2        1.522475       0.000000        1.522475  0.086999  \n",
       "3        1.722183       0.255138        1.467045  0.191354  \n",
       "\n",
       "[4 rows x 38 columns]"
      ],
      "text/html": "<div>\n<style scoped>\n    .dataframe tbody tr th:only-of-type {\n        vertical-align: middle;\n    }\n\n    .dataframe tbody tr th {\n        vertical-align: top;\n    }\n\n    .dataframe thead th {\n        text-align: right;\n    }\n</style>\n<table border=\"1\" class=\"dataframe\">\n  <thead>\n    <tr style=\"text-align: right;\">\n      <th></th>\n      <th>Player</th>\n      <th>Season</th>\n      <th>Minutes</th>\n      <th>TacklesSuccessful</th>\n      <th>TacklesUnsuccessful</th>\n      <th>TacklesTotal</th>\n      <th>Interceptions</th>\n      <th>FoulsWon</th>\n      <th>FoulsCommited</th>\n      <th>YellowCards</th>\n      <th>...</th>\n      <th>AerialsLost</th>\n      <th>PassesTotal</th>\n      <th>PassesSuccessfulLong</th>\n      <th>PassesUnsuccessfulLong</th>\n      <th>PassesSuccessfulShort</th>\n      <th>PassesUnsuccessfulShort</th>\n      <th>KeyPassesTotal</th>\n      <th>KeyPassesLong</th>\n      <th>KeyPassesShort</th>\n      <th>Assists</th>\n    </tr>\n  </thead>\n  <tbody>\n    <tr>\n      <th>0</th>\n      <td>Younes Belhanda 2017/2018</td>\n      <td>2017/2018</td>\n      <td>2445</td>\n      <td>1.803681</td>\n      <td>1.582822</td>\n      <td>3.386503</td>\n      <td>1.067485</td>\n      <td>1.730061</td>\n      <td>1.840491</td>\n      <td>0.147239</td>\n      <td>...</td>\n      <td>0.588957</td>\n      <td>56.061350</td>\n      <td>1.987730</td>\n      <td>1.325153</td>\n      <td>42.993865</td>\n      <td>9.754601</td>\n      <td>2.981595</td>\n      <td>0.883436</td>\n      <td>2.098160</td>\n      <td>0.294479</td>\n    </tr>\n    <tr>\n      <th>1</th>\n      <td>Younes Belhanda 2018/2019</td>\n      <td>2018/2019</td>\n      <td>2363</td>\n      <td>1.713923</td>\n      <td>1.409226</td>\n      <td>3.123149</td>\n      <td>0.685569</td>\n      <td>1.599661</td>\n      <td>1.409226</td>\n      <td>0.342785</td>\n      <td>...</td>\n      <td>0.914092</td>\n      <td>51.646212</td>\n      <td>1.523487</td>\n      <td>1.066441</td>\n      <td>40.981803</td>\n      <td>8.074482</td>\n      <td>2.704190</td>\n      <td>0.647482</td>\n      <td>2.056708</td>\n      <td>0.228523</td>\n    </tr>\n    <tr>\n      <th>2</th>\n      <td>Younes Belhanda 2019/2020</td>\n      <td>2019/2020</td>\n      <td>2069</td>\n      <td>1.304978</td>\n      <td>0.826486</td>\n      <td>2.131464</td>\n      <td>0.608990</td>\n      <td>1.130981</td>\n      <td>1.435476</td>\n      <td>0.347994</td>\n      <td>...</td>\n      <td>0.826486</td>\n      <td>54.156597</td>\n      <td>1.739971</td>\n      <td>0.782987</td>\n      <td>44.630256</td>\n      <td>7.003383</td>\n      <td>1.522475</td>\n      <td>0.000000</td>\n      <td>1.522475</td>\n      <td>0.086999</td>\n    </tr>\n    <tr>\n      <th>3</th>\n      <td>Younes Belhanda 2020/2021</td>\n      <td>2020/2021</td>\n      <td>1411</td>\n      <td>1.403260</td>\n      <td>1.084337</td>\n      <td>2.487597</td>\n      <td>0.637845</td>\n      <td>1.084337</td>\n      <td>0.892984</td>\n      <td>0.191354</td>\n      <td>...</td>\n      <td>0.892984</td>\n      <td>49.688164</td>\n      <td>2.423813</td>\n      <td>0.701630</td>\n      <td>39.673990</td>\n      <td>6.888731</td>\n      <td>1.722183</td>\n      <td>0.255138</td>\n      <td>1.467045</td>\n      <td>0.191354</td>\n    </tr>\n  </tbody>\n</table>\n<p>4 rows × 38 columns</p>\n</div>"
     },
     "metadata": {},
     "execution_count": 188
    }
   ],
   "source": [
    "df = df.iloc[:, 2:].divide(df.iloc[:,1], axis = 'rows')\n",
    "df = df.iloc[:,:].multiply(90)\n",
    "Keep2 = pd.concat([Keep1, Keep2], axis = 1)\n",
    "df = pd.concat([Keep2, df], axis = 1)\n",
    "df"
   ]
  },
  {
   "cell_type": "code",
   "execution_count": 189,
   "metadata": {},
   "outputs": [],
   "source": [
    "df['TackleSuccess%'] = 100*df['TacklesSuccessful'] / df['TacklesTotal']\n",
    "\n",
    "df['AerialSuccess%'] = 100*df['AerialsWon'] / df['AerialsTotal']\n",
    "\n",
    "df['BlocksTotal'] = df['BlockedShots'] + df['BlockedCrosses'] + df['BlockedPasses']\n",
    "\n",
    "df['Tackles&Interceptions'] = df['TacklesSuccessful'] + df['Interceptions']\n",
    "\n",
    "#df['DefensiveActionsSuccessful'] = df['TacklesSuccessful'] + df['Interceptions'] + df['Clearances'] + df['AerialsWon'] + df['BlocksTotal'] \n",
    "\n",
    "#df['DefensiveActionsUnsuccessful'] = df['TacklesUnsuccessful'] + df['FoulsCommited'] + df['AerialsLost']\n",
    "\n",
    "df['DribbleSuccess%'] = 100*df['DribblesSuccessful'] / df['DribblesTotal']\n",
    "\n",
    "df['Bookings'] = df['YellowCards'] + df['RedCards']\n",
    "\n",
    "df['GoalContributions'] = df['Goals'] + df['Assists']\n",
    "\n",
    "#df['PosessionLosses'] = df['Offsides'] + df['DribblesUnsuccessful'] + df['TouchesUnsuccessful'] + df['Dispossessed'] + df['PassesUnsuccessfulShort'] + df['PassesUnsuccessfulLong']\n",
    "\n",
    "df['Turnovers'] = df['TouchesUnsuccessful'] + df['Dispossessed']\n",
    "\n",
    "df['PassSuccessShort%'] = 100*df['PassesSuccessfulShort'] / (df['PassesSuccessfulShort'] + df['PassesUnsuccessfulShort'])\n",
    "\n",
    "df['PassSuccessLong%'] = 100*df['PassesSuccessfulLong'] / (df['PassesSuccessfulLong'] + df['PassesUnsuccessfulLong'])\n",
    "\n",
    "df['PassesSuccessful'] = df['PassesSuccessfulShort'] + df['PassesSuccessfulLong']\n",
    "\n",
    "df['PassSuccess%'] = 100*(df['PassesSuccessfulShort'] + df['PassesSuccessfulLong']) / (df['PassesSuccessfulShort'] + df['PassesSuccessfulLong'] + df['PassesUnsuccessfulShort'] + df['PassesUnsuccessfulLong'])\n"
   ]
  },
  {
   "cell_type": "code",
   "execution_count": 190,
   "metadata": {},
   "outputs": [],
   "source": [
    "#print(df.columns.tolist())\n"
   ]
  },
  {
   "cell_type": "code",
   "execution_count": 191,
   "metadata": {},
   "outputs": [
    {
     "output_type": "execute_result",
     "data": {
      "text/plain": [
       "                      Player  GoalContributions  ShotsTotal  \\\n",
       "0  Younes Belhanda 2017/2018           0.404908    1.472393   \n",
       "1  Younes Belhanda 2018/2019           0.380872    1.675836   \n",
       "2  Younes Belhanda 2019/2020           0.304495    1.913968   \n",
       "3  Younes Belhanda 2020/2021           0.574061    1.913536   \n",
       "\n",
       "   DribblesSuccessful  DribbleSuccess%  PassesSuccessful  PassSuccess%  \\\n",
       "0            2.503067        70.833333         44.981595     80.236376   \n",
       "1            1.637749        59.722222         42.505290     82.300885   \n",
       "2            1.913968        66.666667         46.370227     85.622490   \n",
       "3            1.211906        57.575758         42.097803     84.724005   \n",
       "\n",
       "   KeyPassesTotal  FoulsWon  Tackles&Interceptions  Turnovers  Bookings  \n",
       "0        2.981595  1.730061               2.871166   4.490798  0.220859  \n",
       "1        2.704190  1.599661               2.399492   3.580195  0.380872  \n",
       "2        1.522475  1.130981               1.913968   4.045433  0.391493  \n",
       "3        1.722183  1.084337               2.041106   3.125443  0.191354  "
      ],
      "text/html": "<div>\n<style scoped>\n    .dataframe tbody tr th:only-of-type {\n        vertical-align: middle;\n    }\n\n    .dataframe tbody tr th {\n        vertical-align: top;\n    }\n\n    .dataframe thead th {\n        text-align: right;\n    }\n</style>\n<table border=\"1\" class=\"dataframe\">\n  <thead>\n    <tr style=\"text-align: right;\">\n      <th></th>\n      <th>Player</th>\n      <th>GoalContributions</th>\n      <th>ShotsTotal</th>\n      <th>DribblesSuccessful</th>\n      <th>DribbleSuccess%</th>\n      <th>PassesSuccessful</th>\n      <th>PassSuccess%</th>\n      <th>KeyPassesTotal</th>\n      <th>FoulsWon</th>\n      <th>Tackles&amp;Interceptions</th>\n      <th>Turnovers</th>\n      <th>Bookings</th>\n    </tr>\n  </thead>\n  <tbody>\n    <tr>\n      <th>0</th>\n      <td>Younes Belhanda 2017/2018</td>\n      <td>0.404908</td>\n      <td>1.472393</td>\n      <td>2.503067</td>\n      <td>70.833333</td>\n      <td>44.981595</td>\n      <td>80.236376</td>\n      <td>2.981595</td>\n      <td>1.730061</td>\n      <td>2.871166</td>\n      <td>4.490798</td>\n      <td>0.220859</td>\n    </tr>\n    <tr>\n      <th>1</th>\n      <td>Younes Belhanda 2018/2019</td>\n      <td>0.380872</td>\n      <td>1.675836</td>\n      <td>1.637749</td>\n      <td>59.722222</td>\n      <td>42.505290</td>\n      <td>82.300885</td>\n      <td>2.704190</td>\n      <td>1.599661</td>\n      <td>2.399492</td>\n      <td>3.580195</td>\n      <td>0.380872</td>\n    </tr>\n    <tr>\n      <th>2</th>\n      <td>Younes Belhanda 2019/2020</td>\n      <td>0.304495</td>\n      <td>1.913968</td>\n      <td>1.913968</td>\n      <td>66.666667</td>\n      <td>46.370227</td>\n      <td>85.622490</td>\n      <td>1.522475</td>\n      <td>1.130981</td>\n      <td>1.913968</td>\n      <td>4.045433</td>\n      <td>0.391493</td>\n    </tr>\n    <tr>\n      <th>3</th>\n      <td>Younes Belhanda 2020/2021</td>\n      <td>0.574061</td>\n      <td>1.913536</td>\n      <td>1.211906</td>\n      <td>57.575758</td>\n      <td>42.097803</td>\n      <td>84.724005</td>\n      <td>1.722183</td>\n      <td>1.084337</td>\n      <td>2.041106</td>\n      <td>3.125443</td>\n      <td>0.191354</td>\n    </tr>\n  </tbody>\n</table>\n</div>"
     },
     "metadata": {},
     "execution_count": 191
    }
   ],
   "source": [
    "df = df[(df['Player']== Player_1) | (df['Player']== Player_2) | (df['Player']== Player_3) | (df['Player']== Player_4)].reset_index(drop=True)\n",
    "df = df[['Player','GoalContributions','ShotsTotal', 'DribblesSuccessful', 'DribbleSuccess%','PassesSuccessful', 'PassSuccess%','KeyPassesTotal', 'FoulsWon','Tackles&Interceptions','Turnovers','Bookings']]\n",
    "df"
   ]
  },
  {
   "cell_type": "code",
   "execution_count": 192,
   "metadata": {},
   "outputs": [],
   "source": [
    "params = list(df.columns)\n",
    "params = params[1:]"
   ]
  },
  {
   "cell_type": "code",
   "execution_count": 193,
   "metadata": {},
   "outputs": [
    {
     "output_type": "stream",
     "name": "stdout",
     "text": [
      "[[0.4049079754601227, 1.47239263803681, 2.503067484662577, 70.83333333333334, 44.98159509202454, 80.23637557452398, 2.98159509202454, 1.7300613496932515, 2.8711656441717794, 4.49079754601227, 0.22085889570552147], [0.38087177316969956, 1.675835801946678, 1.637748624629708, 59.72222222222222, 42.50528988573847, 82.30088495575221, 2.7041895895048667, 1.599661447312738, 2.399492170969107, 3.5801946677951757, 0.38087177316969956], ['Younes Belhanda 2019/2020', 0.30449492508458187, 1.9139681005316578, 1.9139681005316578, 66.66666666666667, 46.37022716288062, 85.62248995983936, 1.5224746254229096, 1.1309811503141614, 1.9139681005316578, 4.045432576123732, 0.39149347510874816], [1.9139681005316578, 1.9139681005316578, 66.66666666666667, 46.37022716288062, 85.62248995983936, 1.5224746254229096, 1.1309811503141614, 1.9139681005316578, 4.045432576123732, 0.39149347510874816]]\n"
     ]
    }
   ],
   "source": [
    "ranges = []\n",
    "a_values = []\n",
    "b_values = []\n",
    "c_values = []\n",
    "d_values = []\n",
    "\n",
    "for x in params:\n",
    "    a = min(df[params][x])\n",
    "    a = a - (a*0.15) # 0.25 katı kadar pay bırakacak\n",
    "    \n",
    "    b = max(df[params][x])\n",
    "    b = b + (b*0.15)\n",
    "    \n",
    "    ranges.append((a,b)) #ranges liste bu aralıkları append eder\n",
    "    \n",
    "for x in range(len(df['Player'])):\n",
    "    if df['Player'][x] == Player_1:\n",
    "        a_values = df.iloc[x].values.tolist()\n",
    "    if df['Player'][x] == Player_2:\n",
    "        b_values = df.iloc[x].values.tolist()\n",
    "    if df['Player'][x] == Player_3:\n",
    "        c_values = df.iloc[x].values.tolist()\n",
    "    if df['Player'][x] == Player_4:\n",
    "        d_values = df.iloc[x].values.tolist()\n",
    "         \n",
    "a_values = a_values[1:]\n",
    "b_values = b_values[1:]\n",
    "d_values = c_values[1:]\n",
    "d_values = d_values[1:]\n",
    "\n",
    "values = [a_values,b_values,c_values,d_values]\n",
    "print(values)"
   ]
  },
  {
   "cell_type": "code",
   "execution_count": 194,
   "metadata": {},
   "outputs": [],
   "source": [
    "delim = ' '\n",
    "sep = 2\n",
    "\n",
    "temp = Player_1.split(delim)\n",
    "Player_1 = delim.join(temp[:sep]), delim.join(temp[sep:])\n",
    "\n",
    "temp = Player_2.split(delim)\n",
    "Player_2 = delim.join(temp[:sep]), delim.join(temp[sep:])\n",
    "\n",
    "temp = Player_3.split(delim)\n",
    "Player_3 = delim.join(temp[:sep]), delim.join(temp[sep:])\n",
    "\n",
    "temp = Player_4.split(delim)\n",
    "Player_4 = delim.join(temp[:sep]), delim.join(temp[sep:])\n"
   ]
  },
  {
   "cell_type": "code",
   "execution_count": 195,
   "metadata": {},
   "outputs": [],
   "source": [
    "#title \n",
    "\n",
    "title = dict(\n",
    "    title_name= Player_1[0],\n",
    "    title_color = Color_1,\n",
    "    subtitle_name = Player_1[1],\n",
    "    subtitle_color = Color_1,\n",
    "    title_name_2= Player_2[0],\n",
    "    title_color_2 = Color_2,\n",
    "    subtitle_name_2 = Player_2[1],\n",
    "    subtitle_color_2 = Color_2,\n",
    "    title_color_3 = Color_3,\n",
    "    subtitle_name_3 = Player_3[1],\n",
    "    subtitle_color_3 = Color_3,\n",
    "    title_color_4 = Color_4,\n",
    "    subtitle_name_4 = Player_4[1],\n",
    "    subtitle_color_4 = Color_4,\n",
    "    title_fontsize = 18,\n",
    "    subtitle_fontsize=15\n",
    ")\n",
    "\n",
    "endnote = '@msuatgunerli data via FBref, StatsBomb, Understat & WhoScored'"
   ]
  },
  {
   "cell_type": "code",
   "execution_count": 196,
   "metadata": {},
   "outputs": [
    {
     "output_type": "error",
     "ename": "TypeError",
     "evalue": "'<=' not supported between instances of 'numpy.ndarray' and 'str'",
     "traceback": [
      "\u001b[1;31m---------------------------------------------------------------------------\u001b[0m",
      "\u001b[1;31mTypeError\u001b[0m                                 Traceback (most recent call last)",
      "\u001b[1;32m<ipython-input-196-16806b1357d7>\u001b[0m in \u001b[0;36m<module>\u001b[1;34m\u001b[0m\n\u001b[0;32m      1\u001b[0m \u001b[0mradar\u001b[0m \u001b[1;33m=\u001b[0m \u001b[0mRadar\u001b[0m\u001b[1;33m(\u001b[0m\u001b[0mbackground_color\u001b[0m\u001b[1;33m=\u001b[0m\u001b[1;34m\"#121212\"\u001b[0m\u001b[1;33m,\u001b[0m \u001b[0mpatch_color\u001b[0m\u001b[1;33m=\u001b[0m\u001b[1;34m\"#292929\"\u001b[0m\u001b[1;33m,\u001b[0m \u001b[0mlabel_color\u001b[0m\u001b[1;33m=\u001b[0m\u001b[1;34m\"#FFFFFF\"\u001b[0m\u001b[1;33m,\u001b[0m \u001b[0mrange_color\u001b[0m\u001b[1;33m=\u001b[0m\u001b[1;34m\"#FFFFFF\"\u001b[0m\u001b[1;33m)\u001b[0m\u001b[1;33m\u001b[0m\u001b[1;33m\u001b[0m\u001b[0m\n\u001b[0;32m      2\u001b[0m \u001b[1;33m\u001b[0m\u001b[0m\n\u001b[1;32m----> 3\u001b[1;33m fig,ax = radar.plot_radar(ranges=ranges,params=params,values=values,\n\u001b[0m\u001b[0;32m      4\u001b[0m                          \u001b[0mradar_color\u001b[0m\u001b[1;33m=\u001b[0m\u001b[1;33m[\u001b[0m\u001b[0mColor_1\u001b[0m\u001b[1;33m,\u001b[0m \u001b[0mColor_2\u001b[0m\u001b[1;33m,\u001b[0m \u001b[0mColor_3\u001b[0m\u001b[1;33m,\u001b[0m \u001b[0mColor_4\u001b[0m\u001b[1;33m]\u001b[0m\u001b[1;33m,\u001b[0m\u001b[1;33m\u001b[0m\u001b[1;33m\u001b[0m\u001b[0m\n\u001b[0;32m      5\u001b[0m                          \u001b[0malphas\u001b[0m\u001b[1;33m=\u001b[0m\u001b[1;33m[\u001b[0m\u001b[1;36m0.6\u001b[0m\u001b[1;33m,\u001b[0m\u001b[1;36m0.6\u001b[0m\u001b[1;33m,\u001b[0m\u001b[1;36m0.6\u001b[0m\u001b[1;33m,\u001b[0m\u001b[1;36m0.6\u001b[0m\u001b[1;33m]\u001b[0m\u001b[1;33m,\u001b[0m\u001b[0mtitle\u001b[0m\u001b[1;33m=\u001b[0m\u001b[0mtitle\u001b[0m\u001b[1;33m,\u001b[0m\u001b[0mendnote\u001b[0m\u001b[1;33m=\u001b[0m\u001b[0mendnote\u001b[0m\u001b[1;33m,\u001b[0m\u001b[1;33m\u001b[0m\u001b[1;33m\u001b[0m\u001b[0m\n",
      "\u001b[1;32mD:\\Anaconda3\\lib\\site-packages\\soccerplots\\radar_chart.py\u001b[0m in \u001b[0;36mplot_radar\u001b[1;34m(self, ranges, params, values, radar_color, filename, dpi, title, alphas, compare, endnote, end_size, end_color, image, image_coord, figax, **kwargs)\u001b[0m\n\u001b[0;32m    112\u001b[0m \u001b[1;33m\u001b[0m\u001b[0m\n\u001b[0;32m    113\u001b[0m                 \u001b[1;31m## get vertices\u001b[0m\u001b[1;33m\u001b[0m\u001b[1;33m\u001b[0m\u001b[1;33m\u001b[0m\u001b[0m\n\u001b[1;32m--> 114\u001b[1;33m                 \u001b[0mvertices\u001b[0m \u001b[1;33m=\u001b[0m \u001b[0mself\u001b[0m\u001b[1;33m.\u001b[0m\u001b[0m__get_vertices\u001b[0m\u001b[1;33m(\u001b[0m\u001b[0mvalue\u001b[0m\u001b[1;33m,\u001b[0m \u001b[0mxy\u001b[0m\u001b[1;33m,\u001b[0m \u001b[0mrange_values\u001b[0m\u001b[1;33m)\u001b[0m\u001b[1;33m\u001b[0m\u001b[1;33m\u001b[0m\u001b[0m\n\u001b[0m\u001b[0;32m    115\u001b[0m \u001b[1;33m\u001b[0m\u001b[0m\n\u001b[0;32m    116\u001b[0m                 \u001b[1;31m## make the radar chart\u001b[0m\u001b[1;33m\u001b[0m\u001b[1;33m\u001b[0m\u001b[1;33m\u001b[0m\u001b[0m\n",
      "\u001b[1;32mD:\\Anaconda3\\lib\\site-packages\\soccerplots\\radar_chart.py\u001b[0m in \u001b[0;36m__get_vertices\u001b[1;34m(self, values, xy, range_values)\u001b[0m\n\u001b[0;32m    395\u001b[0m \u001b[1;33m\u001b[0m\u001b[0m\n\u001b[0;32m    396\u001b[0m             \u001b[1;32melse\u001b[0m\u001b[1;33m:\u001b[0m\u001b[1;33m\u001b[0m\u001b[1;33m\u001b[0m\u001b[0m\n\u001b[1;32m--> 397\u001b[1;33m                 \u001b[1;32mif\u001b[0m \u001b[0mvalues\u001b[0m\u001b[1;33m[\u001b[0m\u001b[0mi\u001b[0m\u001b[1;33m]\u001b[0m \u001b[1;33m>=\u001b[0m \u001b[0mrange_list\u001b[0m\u001b[1;33m[\u001b[0m\u001b[1;33m-\u001b[0m\u001b[1;36m1\u001b[0m\u001b[1;33m]\u001b[0m\u001b[1;33m:\u001b[0m\u001b[1;33m\u001b[0m\u001b[1;33m\u001b[0m\u001b[0m\n\u001b[0m\u001b[0;32m    398\u001b[0m                     \u001b[1;31m## if value is greater\u001b[0m\u001b[1;33m\u001b[0m\u001b[1;33m\u001b[0m\u001b[1;33m\u001b[0m\u001b[0m\n\u001b[0;32m    399\u001b[0m                     \u001b[0mx_coord\u001b[0m\u001b[1;33m,\u001b[0m \u001b[0my_coord\u001b[0m \u001b[1;33m=\u001b[0m \u001b[0mcoord_list\u001b[0m\u001b[1;33m[\u001b[0m\u001b[1;33m-\u001b[0m\u001b[1;36m1\u001b[0m\u001b[1;33m,\u001b[0m \u001b[1;36m0\u001b[0m\u001b[1;33m]\u001b[0m\u001b[1;33m,\u001b[0m \u001b[0mcoord_list\u001b[0m\u001b[1;33m[\u001b[0m\u001b[1;33m-\u001b[0m\u001b[1;36m1\u001b[0m\u001b[1;33m,\u001b[0m \u001b[1;36m1\u001b[0m\u001b[1;33m]\u001b[0m\u001b[1;33m\u001b[0m\u001b[1;33m\u001b[0m\u001b[0m\n",
      "\u001b[1;31mTypeError\u001b[0m: '<=' not supported between instances of 'numpy.ndarray' and 'str'"
     ]
    }
   ],
   "source": [
    "radar = Radar(background_color=\"#121212\", patch_color=\"#292929\", label_color=\"#FFFFFF\", range_color=\"#FFFFFF\")\n",
    "\n",
    "fig,ax = radar.plot_radar(ranges=ranges,params=params,values=values,\n",
    "                         radar_color=[Color_1, Color_2, Color_3, Color_4],\n",
    "                         alphas=[0.6,0.6,0.6,0.6],title=title,endnote=endnote,\n",
    "                         compare=True)"
   ]
  }
 ]
}