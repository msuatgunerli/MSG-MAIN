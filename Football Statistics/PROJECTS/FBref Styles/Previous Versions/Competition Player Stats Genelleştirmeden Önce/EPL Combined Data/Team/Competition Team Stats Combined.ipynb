{
 "metadata": {
  "language_info": {
   "codemirror_mode": {
    "name": "ipython",
    "version": 3
   },
   "file_extension": ".py",
   "mimetype": "text/x-python",
   "name": "python",
   "nbconvert_exporter": "python",
   "pygments_lexer": "ipython3",
   "version": "3.8.5-final"
  },
  "orig_nbformat": 2,
  "kernelspec": {
   "name": "python3",
   "display_name": "Python 3",
   "language": "python"
  }
 },
 "nbformat": 4,
 "nbformat_minor": 2,
 "cells": [
  {
   "cell_type": "code",
   "execution_count": null,
   "metadata": {},
   "outputs": [],
   "source": [
    "import pandas as pd\n",
    "import matplotlib.pyplot as plt\n",
    "import matplotlib as mpl\n",
    "import seaborn as sns\n",
    "import numpy as np\n",
    "import scipy as sp\n",
    "from pylab import text\n",
    "from soccerplots.radar_chart import Radar\n",
    "import highlight_text\n",
    "from functools import reduce"
   ]
  },
  {
   "cell_type": "code",
   "execution_count": null,
   "metadata": {},
   "outputs": [],
   "source": [
    "# How to Use --------------------------------------------------------------------------------------------------------------------------------------------------------------------------------------------------------\n",
    "\n",
    "# 1) PLAYER, POSITION, SEASON and COLOR Selection\n",
    "# 2) FILTERS\n",
    "# 3) METRICS\n",
    "# 4) PARAMETERS"
   ]
  },
  {
   "cell_type": "code",
   "execution_count": null,
   "metadata": {},
   "outputs": [],
   "source": [
    "myfont = {'fontname':'DejaVu Sans'}"
   ]
  },
  {
   "cell_type": "code",
   "execution_count": null,
   "metadata": {},
   "outputs": [],
   "source": [
    "filenames = ['Competition Team Stats 2017-2018.xlsx','Competition Team Stats 2018-2019.xlsx','Competition Team Stats 2019-2020.xlsx','Competition Team Stats 2020-2021.xlsx']"
   ]
  },
  {
   "cell_type": "code",
   "execution_count": null,
   "metadata": {},
   "outputs": [],
   "source": [
    "dataframe_list = [pd.read_excel(file_name) for file_name in filenames]"
   ]
  },
  {
   "cell_type": "code",
   "execution_count": null,
   "metadata": {},
   "outputs": [],
   "source": [
    "df0 = dataframe_list[0]\n",
    "df1 = dataframe_list[1]\n",
    "df2 = dataframe_list[2]\n",
    "df3 = dataframe_list[3]"
   ]
  },
  {
   "cell_type": "code",
   "execution_count": null,
   "metadata": {},
   "outputs": [],
   "source": [
    "dataframes = [df0, df1, df2, df3]"
   ]
  },
  {
   "cell_type": "code",
   "execution_count": null,
   "metadata": {},
   "outputs": [],
   "source": [
    "df = pd.concat([df0, df1, df2, df3], ignore_index=True)"
   ]
  },
  {
   "cell_type": "code",
   "execution_count": null,
   "metadata": {},
   "outputs": [],
   "source": [
    "# PLAYER, POSITION, SEASON and COLOR Selection ------------------------------------------------------------------------------------------------------------------------------------------------------------------------------\n",
    "Team_ID_1 = 'Liverpool_2019-2020'\n",
    "Team_1 = str(Team_ID_1).split('_',1)[0]\n",
    "Season_1 = str(Team_ID_1.split('_',1)[1])\n",
    "\n",
    "Team_ID_2 = 'Liverpool_2020-2021'\n",
    "Team_2 = str(Team_ID_2).split('_',1)[0]\n",
    "Season_2 = str(Team_ID_2.split('_',1)[1])\n",
    "\n",
    "Color_1 = 'red'\n",
    "Color_2 = 'white'\n",
    "Comp_1 = 'EPL'\n",
    "Comp_2 = 'EPL'"
   ]
  },
  {
   "cell_type": "code",
   "execution_count": null,
   "metadata": {},
   "outputs": [],
   "source": [
    "# METRICS Select 6 and exclude TEAM ----------------------------------------------------------------------------------------------------------------------------------------------------------------------\n",
    "\n",
    "# Defending\n",
    "#metrics = ['Goals Conceded','Shots on Target Against', 'Post-Shot xG Against','Tackles Won','Tackles Won in the Defensive Third','Interceptions']\n",
    "#metrics = ['Clearances', 'Aerials Won', 'GK Saves', 'Corner Kicks Conceded', 'GK Sweeping Actions', 'Points']\n",
    "\n",
    "# Transition\n",
    "#metrics = df['Progressive Passes','Progressive Carries', 'Through Balls Completed','Pressures','Pressures in the Middle Third','Pressures in the Final Third']\n",
    "#metrics = df['Tackles Won in the Middle Third', 'Tackles Won in the Final Third', 'Dribbles Completed', 'Fouls Won', 'Fouls Committed', 'Points']\n",
    "\n",
    "# Attacking\n",
    "metrics = ['Goals','Goals - xG', 'Shots','Shots on Target','Shot Creating Actions','Goal Creating Actions']\n",
    "#metrics = ['Shots per Touch', 'Touches In Opposition Box', 'Share of Touches in the Final Third %', 'Dribbles Completed', 'Deep Progressions', 'Points']\n",
    "\n",
    "# Passing and Possession\n",
    "\n",
    "#metrics = ['Assists','Assists - xA', 'Possession %','Passes Completed','Pass Completion %','Successful Passes into Final Third']\n",
    "#metrics = ['Passes Completed into Opposition Box','Crosses Completed into Opposition Box', 'Touches', 'Turnovers', 'GK Long Goal Kick Preference %', 'Points']\n"
   ]
  },
  {
   "cell_type": "code",
   "execution_count": null,
   "metadata": {},
   "outputs": [],
   "source": [
    "fig,axes = plt.subplots(3,2,figsize=(14,10))\n",
    "fig.set_facecolor('#121212')\n",
    "\n",
    "mpl.rcParams['xtick.color'] = 'white'\n",
    "mpl.rcParams['ytick.color'] = 'white'\n",
    "\n",
    "counter=0\n",
    "counter2=0 \n",
    "met_counter = 0\n",
    "\n",
    "for i,ax in zip(df['Team_ID'],axes.flatten()):\n",
    "    ax.set_facecolor('#121212')\n",
    "    ax.grid(ls='dotted',lw=.5,color='lightgrey',axis='y',zorder=1)\n",
    "\n",
    "    spines = ['top','bottom','left','right']\n",
    "    for x in spines:\n",
    "        if x in spines:\n",
    "            ax.spines[x].set_visible(False)\n",
    "\n",
    "    #Graph 1\n",
    "    #ax = df[metrics[met_counter]].plot.kde(ax=axes[counter,counter2], zorder=2,color='white')\n",
    "    #l1 = ax.lines[0]\n",
    "    #x1 = l1.get_xydata()[:,0]\n",
    "    #y1 = l1.get_xydata()[:,1]\n",
    "    #ax.fill_between(x1,y1, color=\"#7F7F7F\", alpha=0.3)\n",
    "\n",
    "    #Graph 2\n",
    "    sns.swarmplot(x=metrics[met_counter],data=df,ax=axes[counter,counter2],zorder=2,color='#7F7F7F')\n",
    "    \n",
    "    #Graph 3\n",
    "    #sns.violinplot(x=metrics[met_counter],data=df,ax=axes[counter,counter2],inner = None, zorder=2,color='#7F7F7F')\n",
    "\n",
    "    #per_25 = np.percentile(df[metrics[met_counter]],25)\n",
    "    #ax.axvline(x=per_25, ymin=0.05, ymax=0.95, color='white',zorder=1,linewidth=1,ls='-')\n",
    "    #ax.text(s='25th',x=per_25,y=-0.4394,c='white', size=7) #veya -0.4633\n",
    "\n",
    "    per_50 = np.percentile(df[metrics[met_counter]],50)\n",
    "    ax.axvline(x=per_50,ymin=0.05, ymax=0.95,color='white',zorder=1, linewidth=1.5, ls='-', alpha = 1)\n",
    "    ax.text(s='-Average',x=per_50,y=-0.43675,c='white',weight='bold', size=8, alpha = 1)\n",
    "\n",
    "    #per_75 = np.percentile(df[metrics[met_counter]],75)\n",
    "    #ax.axvline(x=per_75,ymin=0.05, ymax=0.95,color='white',zorder=1,linewidth=1,ls='-')\n",
    "    #ax.text(s='75th',x=per_75,y=-0.4394,c='white',size=7)\n",
    "\n",
    "    #per_95 = np.percentile(df[metrics[met_counter]],95)\n",
    "    #ax.axvline(x=per_95,ymin=0.05, ymax=0.95,color='white',zorder=1,linewidth=1,ls='-')\n",
    "    #ax.text(s='95th',x=per_95,y=-0.4394,c='white',size=7)\n",
    "\n",
    "    ax.set_xlabel(f'{metrics[met_counter]}',c='white')\n",
    "\n",
    "    for x in range(len(df['Team_ID'])):\n",
    "        if df['Team_ID'][x] == Team_ID_1:\n",
    "            ax.scatter(x=df[metrics[met_counter]][x],y=0,s=200,c=Color_1,zorder=3)\n",
    "            #ax.text(s= str(Player_1),x=df[metrics[met_counter]][x],y=-.08,c=Color_1,size=8)\n",
    "            \n",
    "            per_team1 = sp.stats.percentileofscore(df[metrics[met_counter]],df[metrics[met_counter]][x])\n",
    "            text(1, 1, str(round(df[metrics[met_counter]][x],2)) + ' - TPR: '+ str(round(per_team1,1)), ha='left', va='center', color=Color_1, transform=ax.transAxes, weight='bold', size=8)\n",
    "\n",
    "        if df['Team_ID'][x] == Team_ID_2:\n",
    "            ax.scatter(x=df[metrics[met_counter]][x],y=0,s=200,c=Color_2,zorder=3)\n",
    "            #ax.text(s= str(Player_2), x=df[metrics[met_counter]][x],y=-.08,c=Color_2,size=8)\n",
    "\n",
    "            per_team2 = sp.stats.percentileofscore(df[metrics[met_counter]],df[metrics[met_counter]][x])\n",
    "            text(1, 0.95, str(round(df[metrics[met_counter]][x],2))+ ' - TPR: '+ str(round(per_team2,1)), ha='left', va='center', color=Color_2, transform=ax.transAxes, weight='bold', size=8)\n",
    "\n",
    "    met_counter+=1\n",
    "    if counter2 == 0:\n",
    "        counter2 = 1\n",
    "        continue #break out of the current iteration and go to the top, yoksa bire set edip tekrar sıfıra dönecekti\n",
    "    if counter2 == 1:\n",
    "        counter2 = 0\n",
    "        counter+=1\n",
    "\n",
    "s = f\"<{Team_1}> <{Season_1}> vs. <{Team_2}> <{Season_2}> EPL \"\n",
    "highlight_text.fig_text(s=s,\n",
    "                x=.22, y=0.95,\n",
    "                highlight_weights = ['bold'],\n",
    "                **myfont,\n",
    "                fontsize=22,\n",
    "                #fontfamily = 'Andale Mono',\n",
    "                color = 'white',\n",
    "                highlight_colors = [Color_1, Color_1, Color_2, Color_2], #oyuncu adı rengi buraya\n",
    "                va='center',\n",
    "                zorder=3\n",
    "               )\n",
    "\n",
    "fig.text(.62,.05,\"all stats per 90 / Those with less than 3 90s played excluded\",fontsize=11, fontfamily='Andale Mono',color='#7F7F7F')\n",
    "fig.text(.788,.03,\"@msuatgunerli data via FBref\",fontsize=11, fontfamily='Andale Mono',color='#7F7F7F')\n",
    "\n",
    "#plt.savefig('test.png',dpi=500,bbox_inches = 'tight',facecolor=background)\n"
   ]
  },
  {
   "cell_type": "code",
   "execution_count": null,
   "metadata": {},
   "outputs": [],
   "source": [
    "# PARAMETERS - Select 12 and include TEAM ----------------------------------------------------------------------------------------------------------------------------------------------------------------\n",
    "\n",
    "# Defending\n",
    "df = df[['Team_ID','Goals Conceded','Shots on Target Against', 'Post-Shot xG Against','Tackles Won','Tackles Won in the Defensive Third','Interceptions','Clearances', 'Aerials Won', 'GK Saves', 'Corner Kicks Conceded', 'GK Sweeping Actions']]\n",
    "df.columns = ['Team_ID','Goals Conceded','SoT Against', 'PSxG Against','Tackles Won','Tackles Won Def Third','Interceptions','Clearances', 'Aerials Won', 'GK Saves', 'Corners Conceded', 'GK Sweeping Actions']\n",
    "\n",
    "# Transition\n",
    "#df = df[['Team_ID','Progressive Passes','Progressive Carries', 'Through Balls Completed','Pressures','Pressures in the Middle Third','Pressures in the Final Third','Tackles Won in the Middle Third', 'Tackles Won in the Final Third', 'Dribbles Completed', 'Fouls Won', 'Fouls Committed']]\n",
    "#df.columns = ['Team_ID','Prog Passes','Prog Carries', 'Through Balls Cmp','Pressures','Pressures Mid Third','Pressures Final Third','Tackles Won Mid Third', 'Tackles Won Final Third', 'Dribbles Completed', 'Fouls Won', 'Fouls Committed']\n",
    "\n",
    "# Attacking\n",
    "#df = df[['Team_ID','Goals','Goals - xG', 'Shots','Shots on Target','Shot Creating Actions','Goal Creating Actions','Shots per Touch', 'Touches In Opposition Box', 'Share of Touches in the Final Third %', 'Dribbles Completed', 'Deep Progressions']]\n",
    "#df.columns = ['Team_ID','Goals','Goals - xG', 'Shots','SoT','SCA','GCA','Shots per Touch', 'Touches Opp Box', 'Touches Final Third %', 'Dribbles Completed', 'Deep Progressions']\n",
    "\n",
    "# Passing and Possession\n",
    "\n",
    "#df = df[['Team_ID','Assists','Assists - xA', 'Possession %','Passes Completed','Pass Completion %','Successful Passes into Final Third','Passes Completed into Opposition Box','Crosses Completed into Opposition Box', 'Touches', 'Turnovers', 'GK Long Goal Kick Preference %']]\n",
    "#df.columns = ['Team_ID','Assists','Assists - xA', 'Possession %','Passes Cmp','Pass Completion %','Passes Cmp into \\n Final Third','Passes Cmp into \\n Opp Box','Crosses Cmp into \\n Opp Box', 'Touches', 'Turnovers', 'Long GK Pref %']\n"
   ]
  },
  {
   "cell_type": "code",
   "execution_count": null,
   "metadata": {},
   "outputs": [],
   "source": [
    "df = df[(df['Team_ID']==Team_ID_1) | (df['Team_ID']==Team_ID_2)].reset_index(drop=True)\n",
    "df"
   ]
  },
  {
   "cell_type": "code",
   "execution_count": null,
   "metadata": {},
   "outputs": [],
   "source": [
    "params = list(df.columns)\n",
    "params = params[1:]"
   ]
  },
  {
   "cell_type": "code",
   "execution_count": null,
   "metadata": {},
   "outputs": [],
   "source": [
    "ranges = []\n",
    "a_values = []\n",
    "b_values = []\n",
    "\n",
    "for x in params:\n",
    "    a = min(df[params][x])\n",
    "    a = a - (a*.25)\n",
    "    \n",
    "    b = max(df[params][x])\n",
    "    b = b + (b*.10)\n",
    "    \n",
    "    ranges.append((a,b))\n",
    "    \n",
    "for x in range(len(df['Team_ID'])):\n",
    "    if df['Team_ID'][x] == Team_ID_1:\n",
    "        a_values = df.iloc[x].values.tolist()\n",
    "    if df['Team_ID'][x] == Team_ID_2:\n",
    "        b_values = df.iloc[x].values.tolist()\n",
    "        \n",
    "a_values = a_values[1:]\n",
    "b_values = b_values[1:]\n",
    "\n",
    "values = [a_values,b_values]"
   ]
  },
  {
   "cell_type": "code",
   "execution_count": null,
   "metadata": {},
   "outputs": [],
   "source": [
    "title = dict(\n",
    "    title_name= Team_1,\n",
    "    title_color = Color_1,\n",
    "    subtitle_name = str(Season_1) + ' ' + str(Comp_1),\n",
    "    subtitle_color = Color_1,\n",
    "    title_name_2= Team_2,\n",
    "    title_color_2 = Color_2,\n",
    "    subtitle_name_2 = str(Season_2) + ' ' + str(Comp_2),\n",
    "    subtitle_color_2 = Color_2,\n",
    "    title_fontsize = 18,\n",
    "    subtitle_fontsize = 15\n",
    ")\n",
    "\n",
    "endnote = '@msuatgunerli - all stats per90, data via FBref'"
   ]
  },
  {
   "cell_type": "code",
   "execution_count": null,
   "metadata": {},
   "outputs": [],
   "source": [
    "radar = Radar(background_color=\"#121212\", patch_color=\"#292929\", label_color=\"#FFFFFF\", range_color=\"#FFFFFF\")\n",
    "\n",
    "fig,ax = radar.plot_radar(ranges=ranges,params=params,values=values,\n",
    "                         radar_color=[Color_1,Color_2],\n",
    "                         alphas=[0.7,0.6],title=title,endnote=endnote,\n",
    "                         compare=True)"
   ]
  }
 ]
}