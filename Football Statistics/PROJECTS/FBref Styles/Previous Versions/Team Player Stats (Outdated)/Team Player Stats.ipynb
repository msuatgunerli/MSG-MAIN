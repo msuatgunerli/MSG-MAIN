{
 "metadata": {
  "language_info": {
   "codemirror_mode": {
    "name": "ipython",
    "version": 3
   },
   "file_extension": ".py",
   "mimetype": "text/x-python",
   "name": "python",
   "nbconvert_exporter": "python",
   "pygments_lexer": "ipython3",
   "version": "3.8.5-final"
  },
  "orig_nbformat": 2,
  "kernelspec": {
   "name": "python3",
   "display_name": "Python 3",
   "language": "python"
  }
 },
 "nbformat": 4,
 "nbformat_minor": 2,
 "cells": [
  {
   "cell_type": "code",
   "execution_count": 24,
   "metadata": {},
   "outputs": [],
   "source": [
    "import pandas as pd\n",
    "import matplotlib.pyplot as plt\n",
    "import matplotlib as mpl\n",
    "import seaborn as sns\n",
    "import numpy as np\n",
    "import scipy as sp\n",
    "from pylab import text\n",
    "from soccerplots.radar_chart import Radar\n",
    "import highlight_text\n",
    "from functools import reduce"
   ]
  },
  {
   "cell_type": "code",
   "execution_count": 40,
   "metadata": {},
   "outputs": [],
   "source": [
    "Player_1 = 'Phil Foden'\n",
    "Player_2 = 'David Silva'\n",
    "Color_1 = 'deepskyblue'\n",
    "Color_2 = 'white'\n",
    "Team_1 = 'Manchester City'\n",
    "Team_2 = 'Manchester City'"
   ]
  },
  {
   "cell_type": "code",
   "execution_count": 41,
   "metadata": {},
   "outputs": [],
   "source": [
    "filenames = ['0-Standard.txt','1-Goalkeeping.txt','2-Advanced Goalkeeping.txt','3-Shooting.txt', '4-Passing.txt', '5-Pass Types.txt', '6-Goal and Shot Creation.txt', '7-Defensive Actions.txt', '8-Possession.txt', '9-Playing Time.txt', '10-Miscellaneous Stats.txt']"
   ]
  },
  {
   "cell_type": "code",
   "execution_count": 42,
   "metadata": {},
   "outputs": [],
   "source": [
    "dataframe_list = [pd.read_csv(file_name) for file_name in filenames]"
   ]
  },
  {
   "cell_type": "code",
   "execution_count": 43,
   "metadata": {},
   "outputs": [],
   "source": [
    "df0 = dataframe_list[0]\n",
    "df1 = dataframe_list[1]\n",
    "df2 = dataframe_list[2]\n",
    "df3 = dataframe_list[3]\n",
    "df4 = dataframe_list[4]\n",
    "df5 = dataframe_list[5]\n",
    "df6 = dataframe_list[6]\n",
    "df7 = dataframe_list[7]\n",
    "df8 = dataframe_list[8]\n",
    "df9 = dataframe_list[9]\n",
    "df10 = dataframe_list[10]"
   ]
  },
  {
   "cell_type": "code",
   "execution_count": 44,
   "metadata": {},
   "outputs": [],
   "source": [
    "dataframes = [df0, df1, df2, df3, df4, df5, df6, df7, df8, df9, df10] # to join "
   ]
  },
  {
   "cell_type": "code",
   "execution_count": 45,
   "metadata": {},
   "outputs": [],
   "source": [
    "df = reduce(lambda left,right: pd.merge(left,right,on='Player', how='outer'), dataframes)"
   ]
  },
  {
   "cell_type": "code",
   "execution_count": 46,
   "metadata": {},
   "outputs": [],
   "source": [
    "df.columns = [\n",
    "#Standard    \n",
    "'Player', 'Nationality','Position','Age', 'Matches Played', 'Matches Started', 'Minutes Played', '90s Played', 'Goals', 'Assists', 'Non-Penalty Goals','Penalties Scored', 'Penalties Attempted', 'Yellow Cards', 'Red Cards', 'Goals per 90', 'Assists per 90', 'Goal Contributions per 90', 'Non-Penalty Goals per 90', 'Non-Penalty Goal Contributions per 90', 'xG', 'Non-Penalty xG', 'xA', 'Non-Penalty Expected Goal Contributions', 'xG per 90', 'xA per 90', 'Expected Goal Contributions per 90', 'Non-Penalty xG per 90', 'Non-Penalty Expected Goal Contributions per 90', 'Matches',\n",
    "#Goalkeeping\n",
    "'Nationality','Position','Age', 'Matches Played', 'Matches Started', 'Minutes Played', '90s Played', 'GK Goals Conceded', 'GK Goals Conceded per 90', 'GK Shots on Target Against', 'GK Saves', 'GK Save %', 'GK Wins', 'GK Draws', 'GK Losses', 'GK Clean Sheets', 'GK Clean Sheet %', 'GK Penalties Faced', 'GK Penalties Conceded', 'GK Penalties Saved', 'GK Penalties Off Target', 'GK Penalty Save %', 'Matches',\n",
    "#Advanced Goalkeeping\n",
    "'Nationality','Position','Age', '90s Played', 'GK Goals Conceded', 'GK Penalties Conceded', 'GK Free Kicks Conceded', 'GK Corner Kicks Conceded', 'GK Own Goals Conceded', 'GK Post-Shot xG Against', 'GK Post-Shot xG Against per Shot on Target', 'GK Post-Shot xG Against PlusMinus', 'GK Post-Shot xG Against PlusMinus per 90', 'GK Long Passes Completed', 'GK Long Passes Attempted', 'GK Long Pass Completion %','GK Passes Attempted', 'GK Throws Attempted', 'GK Long Pass Preference %', 'GK Average Pass Length (Yd)', 'GK Goal Kicks Attempted', 'GK Long Goal Kick Preference %', 'GK Average Goal Kick Length (Yd)', 'GK Crosses Faced', 'GK Crosses Stopped', 'GK Cross Stoppage %', 'GK Sweeping Actions', 'GK Sweeping Actions per 90', 'GK Average Sweeping Action Distance From Goal (Yd)', 'Matches',\n",
    "#Shooting\n",
    "'Nationality','Position','Age', '90s Played', 'Goals', 'Shots', 'Shots on Target', 'Shot Accuracy %', 'Shots per 90', 'Shots on Target per 90', 'Goals per Shot', 'Goals per Shots on Target', 'Average Shot Distance From Goal (Yd)', 'Direct Free Kicks Attempted', 'Penalties Scored', 'Penalties Attempted', 'xG', 'Non-Penalty xG', 'Non-Penalty xG per Shot', 'Goals - xG','Non-Penalty Goals - Non-Penalty xG', 'Matches', \n",
    "#Passing\n",
    "'Nationality','Position','Age', '90s Played', 'Passes Completed', 'Passes Attempted','Pass Completion %', 'Total Pass Distance (Yd)', 'Progressive Pass Distance (Yd)', 'Short Passes Completed', 'Short Passes Attempted','Short Pass Completion %','Medium Passes Completed', 'Medium Passes Attempted', 'Medium Pass Completion %', 'Long Passes Completed', 'Long Passes Attempted', 'Long Pass Completion %', 'Assists', 'xA', 'Assists - xA', 'Key Passes','Successful Passes Into Final Third', 'Passes Completed Into Opposition Box', 'Crosses Completed Into Opposition Box', 'Progressive Passes', 'Matches',\n",
    "\n",
    "#Pass Types\n",
    "'Nationality','Position','Age', '90s Played', 'Passes Attempted', ' Live-Ball Passes', 'Dead-Ball Passes', 'Passes From Free Kicks', 'Through Balls Completed', 'Passes Completed Under Pressure', 'Flank Changes', 'Crosses Attempted', 'Corner Kicks Taken', 'In-Swinging Corner Kicks', 'Out-Swinging Corner Kicks', 'Straight Corner Kicks', 'Ground Passes','Low Passes','Lofted Passes','Left Footed Passes Attempted','Right Footed Passes Attempted','Headed Passes Attempted', 'Throw-Ins Taken','Other Body Part Passes Attempted','Passes Completed', 'Passes Leading to Offside', 'Passes Out of Bounds','Passes Intercepted by Opposition','Passes Blocked by Opposition','Matches',\n",
    "\n",
    "#Goal and Shot Creation\n",
    "'Nationality','Position','Age', '90s Played','Shot-Creating Actions','Shot-Creating Actions per 90','Shot Creating Live-Ball Passes','Shot Creating Dead-Ball Passes','Shot Creating Dribbles', 'Shot Creating Shots', 'Shot Creating Fouls Won', 'Shot Creating Defensive Actions','GoalCreatingActions', 'Goal Creating Actions per 90', 'Goal Creating Live-Ball Passes','Goal Creating Dead-Ball Passes','Goal Creating Dribbles', 'Goal Creating Shots', 'Goal Creating Fouls Won', 'Goal Creating Defensive Actions', 'Own Goal Creating Actions', 'Matches',\n",
    "\n",
    "#Defensive Actions\n",
    "'Nationality','Position','Age', '90s Played','Tackles Won','Ball-Winning Tackles','Tackles Won in the Defensive Third','Tackles Won in the Middle Third','Tackles Won in the Final Third','Tackles Won Against Dribblers','Tackles Attempted Against Dribblers','Tackles Won Against Dribblers %', 'Dribbled Past','Pressures','Successful Pressures','Pressure Success %', 'Pressures in the Defensive Third','Pressures in the Middle Third','Pressures in the Final Third','Blocks','Blocked Shots','Blocked Shots on Target','Blocked Passes','Interceptions','Tackles + Interceptions','Clearances','Mistakes Leading to Shot','Matches',\n",
    "\n",
    "# Total Tackles Attempted = 'Tackles Won' + 'Dribbled Past'\n",
    "\n",
    "#Possession\n",
    "'Nationality','Position','Age', '90s Played','Touches','Touches In Own Box','Touches in the Defensive Third','Touches in the Middle Third','Touches in the Final Third', 'Touches In Opposition Box','Live-Ball Touches','Dribbles Completed','Dribbles Attempted','Dribble Completion %','Take-Ons','Nutmegs','Carries','Total Carry Distance (Yd)','Progressive Carry Distance (Yd)','Progressive Carries','Carries into the Final Third','Carries into Opposition Box','Unsuccessful Touches','Dispossessed','Passes Targeted','Passes Received','Pass Reception %','Progressive Passes Received','Matches',\n",
    "\n",
    "#Playing Time\n",
    "'Nationality','Position','Age', 'Matches Played','Minutes Played', 'Minutes per Match','Percentage of Minutes Played %', '90s Played', 'Matches Started','Minutes per Matches Started','Complete Matches Played','Times Subbed On', 'Minutes per Sub','Times as Unused Sub','Points Per Match','Team Goals Scored','Team Goals Conceded','Team Goals PlusMinus','Team Goals PlusMinus per 90','Net Team Goals PlusMinus per 90','Team xG','Team xGA', 'Team xG PlusMinus','Team xG PlusMinus per 90','Net Team xG PlusMinus per 90','Matches',\n",
    "\n",
    "#Miscellaneous Stats\n",
    "'Nationality','Position','Age', '90s Played','Yellow Cards','Red Cards','2nd Yellow Cards','Fouls Committed','Fouls Won','Offsides','Crosses Attempted','Interceptions','Tackles Won','Penalties Won','Penalties Given Away','Own Goals','Recoveries','Aerials Won','Aerials Lost', 'Aerial Win %','Matches']\n"
   ]
  },
  {
   "cell_type": "code",
   "execution_count": 47,
   "metadata": {},
   "outputs": [],
   "source": [
    "df = df.loc[:, ~df.columns.duplicated()] # Drop columns with duplicate column names"
   ]
  },
  {
   "cell_type": "code",
   "execution_count": 48,
   "metadata": {},
   "outputs": [],
   "source": [
    "df['Player'] = df['Player'].str.split('\\\\',expand=True)[0] # Split player names\n",
    "df['Nationality'] = df['Nationality'].str.split(' ',expand=True)[1] # Get the 3 capital letter country name only\n",
    "df = df.drop(['Matches'],axis =1) # Drop the Matches column"
   ]
  },
  {
   "cell_type": "code",
   "execution_count": 49,
   "metadata": {},
   "outputs": [
    {
     "output_type": "execute_result",
     "data": {
      "text/plain": [
       "                 Player Nationality Position     Age  Matches Played  \\\n",
       "0           Mason Mount         ENG     MFFW  22-057              26   \n",
       "1         Edouard Mendy         SEN       GK  29-007              22   \n",
       "2           Timo Werner         GER       FW  25-002              26   \n",
       "3          N'Golo Kanté         FRA       MF  29-344              23   \n",
       "4          Ben Chilwell         ENG       DF  24-077              20   \n",
       "5           Reece James         ENG       DF  21-090              21   \n",
       "6          Thiago Silva         BRA       DF  36-167              17   \n",
       "7         Mateo Kovačić         CRO       MF  26-306              22   \n",
       "8            Kurt Zouma         FRA       DF  26-132              16   \n",
       "9     César Azpilicueta         ESP       DF  31-192              17   \n",
       "10             Jorginho         ITA       MF  29-078              18   \n",
       "11      Antonio Rüdiger         GER       DF  28-005              12   \n",
       "12        Tammy Abraham         ENG       FW  23-157              20   \n",
       "13          Kai Havertz         GER     MFFW  21-270              19   \n",
       "14         Hakim Ziyech         MAR     FWMF  27-354              14   \n",
       "15    Christian Pulisic         USA     FWMF  22-171              17   \n",
       "16  Andreas Christensen         DEN       DF  24-332              10   \n",
       "17   Callum Hudson-Odoi         ENG     FWDF  20-121              17   \n",
       "18       Olivier Giroud         FRA       FW  34-159              14   \n",
       "19        Marcos Alonso         ESP       DF  30-070               8   \n",
       "20    Kepa Arrizabalaga         ESP       GK  26-156               4   \n",
       "21      Willy Caballero         ARG       GK  39-161               1   \n",
       "22   Ruben Loftus-Cheek         ENG       FW  25-044               1   \n",
       "23     Emerson Palmieri         ITA       DF  26-217               2   \n",
       "24        Fikayo Tomori         ENG       DF  23-079               1   \n",
       "25         Ross Barkley         ENG       MF  27-093               2   \n",
       "26        Billy Gilmour         SCO       MF  19-270               2   \n",
       "27     Faustino Anjorin         ENG       MF  19-105               0   \n",
       "28          Karlo Ziger         CRO       GK  19-301               0   \n",
       "29          Squad Total         NaN      NaN    26.7              27   \n",
       "30       Opponent Total         NaN      NaN    27.0              27   \n",
       "\n",
       "    Matches Started  Minutes Played  90s Played  Goals  Assists  ...  \\\n",
       "0                24          2127.0        23.6   0.21     0.13  ...   \n",
       "1                22          1980.0        22.0   0.00     0.00  ...   \n",
       "2                22          1932.0        21.5   0.23     0.23  ...   \n",
       "3                20          1802.0        20.0   0.00     0.10  ...   \n",
       "4                20          1666.0        18.5   0.11     0.22  ...   \n",
       "5                17          1610.0        17.9   0.06     0.11  ...   \n",
       "6                17          1457.0        16.2   0.12     0.00  ...   \n",
       "7                17          1440.0        16.0   0.00     0.06  ...   \n",
       "8                16          1440.0        16.0   0.25     0.00  ...   \n",
       "9                15          1401.0        15.6   0.06     0.06  ...   \n",
       "10               14          1257.0        14.0   0.36     0.07  ...   \n",
       "11               12          1080.0        12.0   0.00     0.00  ...   \n",
       "12               12          1021.0        11.3   0.53     0.09  ...   \n",
       "13               12           986.0        11.0   0.09     0.18  ...   \n",
       "14               10           787.0         8.7   0.11     0.34  ...   \n",
       "15                9          1012.0        11.2   0.09     0.09  ...   \n",
       "16                9           819.0         9.1   0.00     0.00  ...   \n",
       "17                8           823.0         9.1   0.22     0.22  ...   \n",
       "18                8           707.0         7.9   0.51     0.00  ...   \n",
       "19                7           614.0         6.8   0.15     0.00  ...   \n",
       "20                4           360.0         4.0   0.00     0.00  ...   \n",
       "21                1            90.0         1.0   0.00     0.00  ...   \n",
       "22                1            60.0         0.7   0.00     0.00  ...   \n",
       "23                0            90.0         1.0   0.00     0.00  ...   \n",
       "24                0            45.0         0.5   0.00     0.00  ...   \n",
       "25                0            42.0         0.5   0.00     0.00  ...   \n",
       "26                0            36.0         0.4   0.00     0.00  ...   \n",
       "27                0             NaN         NaN    NaN      NaN  ...   \n",
       "28                0             NaN         NaN    NaN      NaN  ...   \n",
       "29              297          2430.0        27.0   1.52     1.04  ...   \n",
       "30              297          2430.0        27.0   0.89     0.63  ...   \n",
       "\n",
       "    Fouls Committed  Fouls Won  Offsides  Penalties Won  Penalties Given Away  \\\n",
       "0              1.82       1.36      0.08           0.08                  0.00   \n",
       "1              0.05       0.05      0.00           0.00                  0.05   \n",
       "2              0.79       0.98      0.88           0.19                  0.00   \n",
       "3              1.65       0.30      0.00           0.00                  0.00   \n",
       "4              0.86       1.62      0.16           0.00                  0.00   \n",
       "5              1.28       0.61      0.06           0.00                  0.06   \n",
       "6              0.62       0.74      0.00           0.00                  0.00   \n",
       "7              0.75       1.69      0.00           0.00                  0.00   \n",
       "8              0.69       0.31      0.00           0.00                  0.00   \n",
       "9              1.41       0.45      0.19           0.00                  0.00   \n",
       "10             1.64       1.36      0.00           0.00                  0.00   \n",
       "11             0.58       0.42      0.08           0.00                  0.00   \n",
       "12             1.86       1.06      0.44           0.09                  0.00   \n",
       "13             1.73       1.00      0.18           0.09                  0.00   \n",
       "14             1.49       1.15      0.11           0.00                  0.00   \n",
       "15             0.89       1.79      0.27           0.00                  0.00   \n",
       "16             0.33       0.22      0.00           0.00                  0.00   \n",
       "17             0.66       0.66      0.11           0.00                  0.00   \n",
       "18             1.90       0.76      0.63           0.00                  0.00   \n",
       "19             1.03       1.03      0.15           0.00                  0.00   \n",
       "20             0.25       0.00      0.00           0.00                  0.00   \n",
       "21             0.00       0.00      0.00           0.00                  0.00   \n",
       "22             1.43       2.86      0.00           0.00                  0.00   \n",
       "23             3.00       0.00      0.00           0.00                  0.00   \n",
       "24             2.00       0.00      0.00           0.00                  0.00   \n",
       "25             4.00       4.00      2.00           0.00                  0.00   \n",
       "26             0.00       5.00      0.00           0.00                  0.00   \n",
       "27              NaN        NaN       NaN            NaN                   NaN   \n",
       "28              NaN        NaN       NaN            NaN                   NaN   \n",
       "29            11.90       9.48      1.78           0.30                  0.07   \n",
       "30             9.89      11.30      1.41           0.07                  0.30   \n",
       "\n",
       "    Own Goals  Recoveries  Aerials Won  Aerials Lost  Aerial Win %  \n",
       "0        0.00        7.63         0.64          1.69          27.3  \n",
       "1        0.00        3.82         0.00          0.05           0.0  \n",
       "2        0.00        5.16         0.37          1.16          24.2  \n",
       "3        0.00       12.20         0.80          1.40          36.4  \n",
       "4        0.00        8.32         1.95          1.08          64.3  \n",
       "5        0.00        8.55         1.56          0.84          65.1  \n",
       "6        0.00       10.60         2.41          0.80          75.0  \n",
       "7        0.00        7.38         0.44          0.63          41.2  \n",
       "8        0.00       10.80         4.31          1.06          80.2  \n",
       "9        0.00       10.90         2.69          2.50          51.9  \n",
       "10       0.00       10.80         0.71          0.93          43.5  \n",
       "11       0.08        8.00         3.00          0.75          80.0  \n",
       "12       0.00        3.98         3.27          2.30          58.7  \n",
       "13       0.00        6.91         1.36          2.18          38.5  \n",
       "14       0.00        8.39         0.23          1.95          10.5  \n",
       "15       0.00        5.80         1.16          2.23          34.2  \n",
       "16       0.00        9.12         2.86          0.99          74.3  \n",
       "17       0.00        5.60         0.33          0.99          25.0  \n",
       "18       0.00        3.80         2.15          3.67          37.0  \n",
       "19       0.00        9.71         2.65          1.47          64.3  \n",
       "20       0.00        4.50         0.00          0.00           NaN  \n",
       "21       0.00        4.00         0.00          0.00           NaN  \n",
       "22       0.00        7.14         1.43          4.29          25.0  \n",
       "23       0.00       11.00         3.00          0.00         100.0  \n",
       "24       0.00        8.00         0.00          0.00           NaN  \n",
       "25       0.00       16.00         6.00          2.00          75.0  \n",
       "26       0.00       12.50         2.50          0.00         100.0  \n",
       "27        NaN         NaN          NaN           NaN           NaN  \n",
       "28        NaN         NaN          NaN           NaN           NaN  \n",
       "29       0.04       87.00        16.50         14.20          53.7  \n",
       "30       0.04       82.80        14.20         16.50          46.3  \n",
       "\n",
       "[31 rows x 215 columns]"
      ],
      "text/html": "<div>\n<style scoped>\n    .dataframe tbody tr th:only-of-type {\n        vertical-align: middle;\n    }\n\n    .dataframe tbody tr th {\n        vertical-align: top;\n    }\n\n    .dataframe thead th {\n        text-align: right;\n    }\n</style>\n<table border=\"1\" class=\"dataframe\">\n  <thead>\n    <tr style=\"text-align: right;\">\n      <th></th>\n      <th>Player</th>\n      <th>Nationality</th>\n      <th>Position</th>\n      <th>Age</th>\n      <th>Matches Played</th>\n      <th>Matches Started</th>\n      <th>Minutes Played</th>\n      <th>90s Played</th>\n      <th>Goals</th>\n      <th>Assists</th>\n      <th>...</th>\n      <th>Fouls Committed</th>\n      <th>Fouls Won</th>\n      <th>Offsides</th>\n      <th>Penalties Won</th>\n      <th>Penalties Given Away</th>\n      <th>Own Goals</th>\n      <th>Recoveries</th>\n      <th>Aerials Won</th>\n      <th>Aerials Lost</th>\n      <th>Aerial Win %</th>\n    </tr>\n  </thead>\n  <tbody>\n    <tr>\n      <th>0</th>\n      <td>Mason Mount</td>\n      <td>ENG</td>\n      <td>MFFW</td>\n      <td>22-057</td>\n      <td>26</td>\n      <td>24</td>\n      <td>2127.0</td>\n      <td>23.6</td>\n      <td>0.21</td>\n      <td>0.13</td>\n      <td>...</td>\n      <td>1.82</td>\n      <td>1.36</td>\n      <td>0.08</td>\n      <td>0.08</td>\n      <td>0.00</td>\n      <td>0.00</td>\n      <td>7.63</td>\n      <td>0.64</td>\n      <td>1.69</td>\n      <td>27.3</td>\n    </tr>\n    <tr>\n      <th>1</th>\n      <td>Edouard Mendy</td>\n      <td>SEN</td>\n      <td>GK</td>\n      <td>29-007</td>\n      <td>22</td>\n      <td>22</td>\n      <td>1980.0</td>\n      <td>22.0</td>\n      <td>0.00</td>\n      <td>0.00</td>\n      <td>...</td>\n      <td>0.05</td>\n      <td>0.05</td>\n      <td>0.00</td>\n      <td>0.00</td>\n      <td>0.05</td>\n      <td>0.00</td>\n      <td>3.82</td>\n      <td>0.00</td>\n      <td>0.05</td>\n      <td>0.0</td>\n    </tr>\n    <tr>\n      <th>2</th>\n      <td>Timo Werner</td>\n      <td>GER</td>\n      <td>FW</td>\n      <td>25-002</td>\n      <td>26</td>\n      <td>22</td>\n      <td>1932.0</td>\n      <td>21.5</td>\n      <td>0.23</td>\n      <td>0.23</td>\n      <td>...</td>\n      <td>0.79</td>\n      <td>0.98</td>\n      <td>0.88</td>\n      <td>0.19</td>\n      <td>0.00</td>\n      <td>0.00</td>\n      <td>5.16</td>\n      <td>0.37</td>\n      <td>1.16</td>\n      <td>24.2</td>\n    </tr>\n    <tr>\n      <th>3</th>\n      <td>N'Golo Kanté</td>\n      <td>FRA</td>\n      <td>MF</td>\n      <td>29-344</td>\n      <td>23</td>\n      <td>20</td>\n      <td>1802.0</td>\n      <td>20.0</td>\n      <td>0.00</td>\n      <td>0.10</td>\n      <td>...</td>\n      <td>1.65</td>\n      <td>0.30</td>\n      <td>0.00</td>\n      <td>0.00</td>\n      <td>0.00</td>\n      <td>0.00</td>\n      <td>12.20</td>\n      <td>0.80</td>\n      <td>1.40</td>\n      <td>36.4</td>\n    </tr>\n    <tr>\n      <th>4</th>\n      <td>Ben Chilwell</td>\n      <td>ENG</td>\n      <td>DF</td>\n      <td>24-077</td>\n      <td>20</td>\n      <td>20</td>\n      <td>1666.0</td>\n      <td>18.5</td>\n      <td>0.11</td>\n      <td>0.22</td>\n      <td>...</td>\n      <td>0.86</td>\n      <td>1.62</td>\n      <td>0.16</td>\n      <td>0.00</td>\n      <td>0.00</td>\n      <td>0.00</td>\n      <td>8.32</td>\n      <td>1.95</td>\n      <td>1.08</td>\n      <td>64.3</td>\n    </tr>\n    <tr>\n      <th>5</th>\n      <td>Reece James</td>\n      <td>ENG</td>\n      <td>DF</td>\n      <td>21-090</td>\n      <td>21</td>\n      <td>17</td>\n      <td>1610.0</td>\n      <td>17.9</td>\n      <td>0.06</td>\n      <td>0.11</td>\n      <td>...</td>\n      <td>1.28</td>\n      <td>0.61</td>\n      <td>0.06</td>\n      <td>0.00</td>\n      <td>0.06</td>\n      <td>0.00</td>\n      <td>8.55</td>\n      <td>1.56</td>\n      <td>0.84</td>\n      <td>65.1</td>\n    </tr>\n    <tr>\n      <th>6</th>\n      <td>Thiago Silva</td>\n      <td>BRA</td>\n      <td>DF</td>\n      <td>36-167</td>\n      <td>17</td>\n      <td>17</td>\n      <td>1457.0</td>\n      <td>16.2</td>\n      <td>0.12</td>\n      <td>0.00</td>\n      <td>...</td>\n      <td>0.62</td>\n      <td>0.74</td>\n      <td>0.00</td>\n      <td>0.00</td>\n      <td>0.00</td>\n      <td>0.00</td>\n      <td>10.60</td>\n      <td>2.41</td>\n      <td>0.80</td>\n      <td>75.0</td>\n    </tr>\n    <tr>\n      <th>7</th>\n      <td>Mateo Kovačić</td>\n      <td>CRO</td>\n      <td>MF</td>\n      <td>26-306</td>\n      <td>22</td>\n      <td>17</td>\n      <td>1440.0</td>\n      <td>16.0</td>\n      <td>0.00</td>\n      <td>0.06</td>\n      <td>...</td>\n      <td>0.75</td>\n      <td>1.69</td>\n      <td>0.00</td>\n      <td>0.00</td>\n      <td>0.00</td>\n      <td>0.00</td>\n      <td>7.38</td>\n      <td>0.44</td>\n      <td>0.63</td>\n      <td>41.2</td>\n    </tr>\n    <tr>\n      <th>8</th>\n      <td>Kurt Zouma</td>\n      <td>FRA</td>\n      <td>DF</td>\n      <td>26-132</td>\n      <td>16</td>\n      <td>16</td>\n      <td>1440.0</td>\n      <td>16.0</td>\n      <td>0.25</td>\n      <td>0.00</td>\n      <td>...</td>\n      <td>0.69</td>\n      <td>0.31</td>\n      <td>0.00</td>\n      <td>0.00</td>\n      <td>0.00</td>\n      <td>0.00</td>\n      <td>10.80</td>\n      <td>4.31</td>\n      <td>1.06</td>\n      <td>80.2</td>\n    </tr>\n    <tr>\n      <th>9</th>\n      <td>César Azpilicueta</td>\n      <td>ESP</td>\n      <td>DF</td>\n      <td>31-192</td>\n      <td>17</td>\n      <td>15</td>\n      <td>1401.0</td>\n      <td>15.6</td>\n      <td>0.06</td>\n      <td>0.06</td>\n      <td>...</td>\n      <td>1.41</td>\n      <td>0.45</td>\n      <td>0.19</td>\n      <td>0.00</td>\n      <td>0.00</td>\n      <td>0.00</td>\n      <td>10.90</td>\n      <td>2.69</td>\n      <td>2.50</td>\n      <td>51.9</td>\n    </tr>\n    <tr>\n      <th>10</th>\n      <td>Jorginho</td>\n      <td>ITA</td>\n      <td>MF</td>\n      <td>29-078</td>\n      <td>18</td>\n      <td>14</td>\n      <td>1257.0</td>\n      <td>14.0</td>\n      <td>0.36</td>\n      <td>0.07</td>\n      <td>...</td>\n      <td>1.64</td>\n      <td>1.36</td>\n      <td>0.00</td>\n      <td>0.00</td>\n      <td>0.00</td>\n      <td>0.00</td>\n      <td>10.80</td>\n      <td>0.71</td>\n      <td>0.93</td>\n      <td>43.5</td>\n    </tr>\n    <tr>\n      <th>11</th>\n      <td>Antonio Rüdiger</td>\n      <td>GER</td>\n      <td>DF</td>\n      <td>28-005</td>\n      <td>12</td>\n      <td>12</td>\n      <td>1080.0</td>\n      <td>12.0</td>\n      <td>0.00</td>\n      <td>0.00</td>\n      <td>...</td>\n      <td>0.58</td>\n      <td>0.42</td>\n      <td>0.08</td>\n      <td>0.00</td>\n      <td>0.00</td>\n      <td>0.08</td>\n      <td>8.00</td>\n      <td>3.00</td>\n      <td>0.75</td>\n      <td>80.0</td>\n    </tr>\n    <tr>\n      <th>12</th>\n      <td>Tammy Abraham</td>\n      <td>ENG</td>\n      <td>FW</td>\n      <td>23-157</td>\n      <td>20</td>\n      <td>12</td>\n      <td>1021.0</td>\n      <td>11.3</td>\n      <td>0.53</td>\n      <td>0.09</td>\n      <td>...</td>\n      <td>1.86</td>\n      <td>1.06</td>\n      <td>0.44</td>\n      <td>0.09</td>\n      <td>0.00</td>\n      <td>0.00</td>\n      <td>3.98</td>\n      <td>3.27</td>\n      <td>2.30</td>\n      <td>58.7</td>\n    </tr>\n    <tr>\n      <th>13</th>\n      <td>Kai Havertz</td>\n      <td>GER</td>\n      <td>MFFW</td>\n      <td>21-270</td>\n      <td>19</td>\n      <td>12</td>\n      <td>986.0</td>\n      <td>11.0</td>\n      <td>0.09</td>\n      <td>0.18</td>\n      <td>...</td>\n      <td>1.73</td>\n      <td>1.00</td>\n      <td>0.18</td>\n      <td>0.09</td>\n      <td>0.00</td>\n      <td>0.00</td>\n      <td>6.91</td>\n      <td>1.36</td>\n      <td>2.18</td>\n      <td>38.5</td>\n    </tr>\n    <tr>\n      <th>14</th>\n      <td>Hakim Ziyech</td>\n      <td>MAR</td>\n      <td>FWMF</td>\n      <td>27-354</td>\n      <td>14</td>\n      <td>10</td>\n      <td>787.0</td>\n      <td>8.7</td>\n      <td>0.11</td>\n      <td>0.34</td>\n      <td>...</td>\n      <td>1.49</td>\n      <td>1.15</td>\n      <td>0.11</td>\n      <td>0.00</td>\n      <td>0.00</td>\n      <td>0.00</td>\n      <td>8.39</td>\n      <td>0.23</td>\n      <td>1.95</td>\n      <td>10.5</td>\n    </tr>\n    <tr>\n      <th>15</th>\n      <td>Christian Pulisic</td>\n      <td>USA</td>\n      <td>FWMF</td>\n      <td>22-171</td>\n      <td>17</td>\n      <td>9</td>\n      <td>1012.0</td>\n      <td>11.2</td>\n      <td>0.09</td>\n      <td>0.09</td>\n      <td>...</td>\n      <td>0.89</td>\n      <td>1.79</td>\n      <td>0.27</td>\n      <td>0.00</td>\n      <td>0.00</td>\n      <td>0.00</td>\n      <td>5.80</td>\n      <td>1.16</td>\n      <td>2.23</td>\n      <td>34.2</td>\n    </tr>\n    <tr>\n      <th>16</th>\n      <td>Andreas Christensen</td>\n      <td>DEN</td>\n      <td>DF</td>\n      <td>24-332</td>\n      <td>10</td>\n      <td>9</td>\n      <td>819.0</td>\n      <td>9.1</td>\n      <td>0.00</td>\n      <td>0.00</td>\n      <td>...</td>\n      <td>0.33</td>\n      <td>0.22</td>\n      <td>0.00</td>\n      <td>0.00</td>\n      <td>0.00</td>\n      <td>0.00</td>\n      <td>9.12</td>\n      <td>2.86</td>\n      <td>0.99</td>\n      <td>74.3</td>\n    </tr>\n    <tr>\n      <th>17</th>\n      <td>Callum Hudson-Odoi</td>\n      <td>ENG</td>\n      <td>FWDF</td>\n      <td>20-121</td>\n      <td>17</td>\n      <td>8</td>\n      <td>823.0</td>\n      <td>9.1</td>\n      <td>0.22</td>\n      <td>0.22</td>\n      <td>...</td>\n      <td>0.66</td>\n      <td>0.66</td>\n      <td>0.11</td>\n      <td>0.00</td>\n      <td>0.00</td>\n      <td>0.00</td>\n      <td>5.60</td>\n      <td>0.33</td>\n      <td>0.99</td>\n      <td>25.0</td>\n    </tr>\n    <tr>\n      <th>18</th>\n      <td>Olivier Giroud</td>\n      <td>FRA</td>\n      <td>FW</td>\n      <td>34-159</td>\n      <td>14</td>\n      <td>8</td>\n      <td>707.0</td>\n      <td>7.9</td>\n      <td>0.51</td>\n      <td>0.00</td>\n      <td>...</td>\n      <td>1.90</td>\n      <td>0.76</td>\n      <td>0.63</td>\n      <td>0.00</td>\n      <td>0.00</td>\n      <td>0.00</td>\n      <td>3.80</td>\n      <td>2.15</td>\n      <td>3.67</td>\n      <td>37.0</td>\n    </tr>\n    <tr>\n      <th>19</th>\n      <td>Marcos Alonso</td>\n      <td>ESP</td>\n      <td>DF</td>\n      <td>30-070</td>\n      <td>8</td>\n      <td>7</td>\n      <td>614.0</td>\n      <td>6.8</td>\n      <td>0.15</td>\n      <td>0.00</td>\n      <td>...</td>\n      <td>1.03</td>\n      <td>1.03</td>\n      <td>0.15</td>\n      <td>0.00</td>\n      <td>0.00</td>\n      <td>0.00</td>\n      <td>9.71</td>\n      <td>2.65</td>\n      <td>1.47</td>\n      <td>64.3</td>\n    </tr>\n    <tr>\n      <th>20</th>\n      <td>Kepa Arrizabalaga</td>\n      <td>ESP</td>\n      <td>GK</td>\n      <td>26-156</td>\n      <td>4</td>\n      <td>4</td>\n      <td>360.0</td>\n      <td>4.0</td>\n      <td>0.00</td>\n      <td>0.00</td>\n      <td>...</td>\n      <td>0.25</td>\n      <td>0.00</td>\n      <td>0.00</td>\n      <td>0.00</td>\n      <td>0.00</td>\n      <td>0.00</td>\n      <td>4.50</td>\n      <td>0.00</td>\n      <td>0.00</td>\n      <td>NaN</td>\n    </tr>\n    <tr>\n      <th>21</th>\n      <td>Willy Caballero</td>\n      <td>ARG</td>\n      <td>GK</td>\n      <td>39-161</td>\n      <td>1</td>\n      <td>1</td>\n      <td>90.0</td>\n      <td>1.0</td>\n      <td>0.00</td>\n      <td>0.00</td>\n      <td>...</td>\n      <td>0.00</td>\n      <td>0.00</td>\n      <td>0.00</td>\n      <td>0.00</td>\n      <td>0.00</td>\n      <td>0.00</td>\n      <td>4.00</td>\n      <td>0.00</td>\n      <td>0.00</td>\n      <td>NaN</td>\n    </tr>\n    <tr>\n      <th>22</th>\n      <td>Ruben Loftus-Cheek</td>\n      <td>ENG</td>\n      <td>FW</td>\n      <td>25-044</td>\n      <td>1</td>\n      <td>1</td>\n      <td>60.0</td>\n      <td>0.7</td>\n      <td>0.00</td>\n      <td>0.00</td>\n      <td>...</td>\n      <td>1.43</td>\n      <td>2.86</td>\n      <td>0.00</td>\n      <td>0.00</td>\n      <td>0.00</td>\n      <td>0.00</td>\n      <td>7.14</td>\n      <td>1.43</td>\n      <td>4.29</td>\n      <td>25.0</td>\n    </tr>\n    <tr>\n      <th>23</th>\n      <td>Emerson Palmieri</td>\n      <td>ITA</td>\n      <td>DF</td>\n      <td>26-217</td>\n      <td>2</td>\n      <td>0</td>\n      <td>90.0</td>\n      <td>1.0</td>\n      <td>0.00</td>\n      <td>0.00</td>\n      <td>...</td>\n      <td>3.00</td>\n      <td>0.00</td>\n      <td>0.00</td>\n      <td>0.00</td>\n      <td>0.00</td>\n      <td>0.00</td>\n      <td>11.00</td>\n      <td>3.00</td>\n      <td>0.00</td>\n      <td>100.0</td>\n    </tr>\n    <tr>\n      <th>24</th>\n      <td>Fikayo Tomori</td>\n      <td>ENG</td>\n      <td>DF</td>\n      <td>23-079</td>\n      <td>1</td>\n      <td>0</td>\n      <td>45.0</td>\n      <td>0.5</td>\n      <td>0.00</td>\n      <td>0.00</td>\n      <td>...</td>\n      <td>2.00</td>\n      <td>0.00</td>\n      <td>0.00</td>\n      <td>0.00</td>\n      <td>0.00</td>\n      <td>0.00</td>\n      <td>8.00</td>\n      <td>0.00</td>\n      <td>0.00</td>\n      <td>NaN</td>\n    </tr>\n    <tr>\n      <th>25</th>\n      <td>Ross Barkley</td>\n      <td>ENG</td>\n      <td>MF</td>\n      <td>27-093</td>\n      <td>2</td>\n      <td>0</td>\n      <td>42.0</td>\n      <td>0.5</td>\n      <td>0.00</td>\n      <td>0.00</td>\n      <td>...</td>\n      <td>4.00</td>\n      <td>4.00</td>\n      <td>2.00</td>\n      <td>0.00</td>\n      <td>0.00</td>\n      <td>0.00</td>\n      <td>16.00</td>\n      <td>6.00</td>\n      <td>2.00</td>\n      <td>75.0</td>\n    </tr>\n    <tr>\n      <th>26</th>\n      <td>Billy Gilmour</td>\n      <td>SCO</td>\n      <td>MF</td>\n      <td>19-270</td>\n      <td>2</td>\n      <td>0</td>\n      <td>36.0</td>\n      <td>0.4</td>\n      <td>0.00</td>\n      <td>0.00</td>\n      <td>...</td>\n      <td>0.00</td>\n      <td>5.00</td>\n      <td>0.00</td>\n      <td>0.00</td>\n      <td>0.00</td>\n      <td>0.00</td>\n      <td>12.50</td>\n      <td>2.50</td>\n      <td>0.00</td>\n      <td>100.0</td>\n    </tr>\n    <tr>\n      <th>27</th>\n      <td>Faustino Anjorin</td>\n      <td>ENG</td>\n      <td>MF</td>\n      <td>19-105</td>\n      <td>0</td>\n      <td>0</td>\n      <td>NaN</td>\n      <td>NaN</td>\n      <td>NaN</td>\n      <td>NaN</td>\n      <td>...</td>\n      <td>NaN</td>\n      <td>NaN</td>\n      <td>NaN</td>\n      <td>NaN</td>\n      <td>NaN</td>\n      <td>NaN</td>\n      <td>NaN</td>\n      <td>NaN</td>\n      <td>NaN</td>\n      <td>NaN</td>\n    </tr>\n    <tr>\n      <th>28</th>\n      <td>Karlo Ziger</td>\n      <td>CRO</td>\n      <td>GK</td>\n      <td>19-301</td>\n      <td>0</td>\n      <td>0</td>\n      <td>NaN</td>\n      <td>NaN</td>\n      <td>NaN</td>\n      <td>NaN</td>\n      <td>...</td>\n      <td>NaN</td>\n      <td>NaN</td>\n      <td>NaN</td>\n      <td>NaN</td>\n      <td>NaN</td>\n      <td>NaN</td>\n      <td>NaN</td>\n      <td>NaN</td>\n      <td>NaN</td>\n      <td>NaN</td>\n    </tr>\n    <tr>\n      <th>29</th>\n      <td>Squad Total</td>\n      <td>NaN</td>\n      <td>NaN</td>\n      <td>26.7</td>\n      <td>27</td>\n      <td>297</td>\n      <td>2430.0</td>\n      <td>27.0</td>\n      <td>1.52</td>\n      <td>1.04</td>\n      <td>...</td>\n      <td>11.90</td>\n      <td>9.48</td>\n      <td>1.78</td>\n      <td>0.30</td>\n      <td>0.07</td>\n      <td>0.04</td>\n      <td>87.00</td>\n      <td>16.50</td>\n      <td>14.20</td>\n      <td>53.7</td>\n    </tr>\n    <tr>\n      <th>30</th>\n      <td>Opponent Total</td>\n      <td>NaN</td>\n      <td>NaN</td>\n      <td>27.0</td>\n      <td>27</td>\n      <td>297</td>\n      <td>2430.0</td>\n      <td>27.0</td>\n      <td>0.89</td>\n      <td>0.63</td>\n      <td>...</td>\n      <td>9.89</td>\n      <td>11.30</td>\n      <td>1.41</td>\n      <td>0.07</td>\n      <td>0.30</td>\n      <td>0.04</td>\n      <td>82.80</td>\n      <td>14.20</td>\n      <td>16.50</td>\n      <td>46.3</td>\n    </tr>\n  </tbody>\n</table>\n<p>31 rows × 215 columns</p>\n</div>"
     },
     "metadata": {},
     "execution_count": 49
    }
   ],
   "source": [
    "df"
   ]
  },
  {
   "cell_type": "code",
   "execution_count": 50,
   "metadata": {},
   "outputs": [],
   "source": [
    "#df.columns.to_list()\n",
    "#df.to_excel(\"df.xlsx\")"
   ]
  },
  {
   "cell_type": "code",
   "execution_count": 51,
   "metadata": {},
   "outputs": [],
   "source": [
    "df['Tackles Attempted'] = df['Tackles Won'] + df['Dribbled Past']\n",
    "df['Tackle Success %'] = df['Tackles Won'] / df['Tackles Attempted']"
   ]
  },
  {
   "cell_type": "code",
   "execution_count": 52,
   "metadata": {},
   "outputs": [],
   "source": [
    "#df = df[df['Position'] != 'GK'] #remove goalkeepers\n",
    "df = df[df['90s Played'] > 3].reset_index(drop=True) # filter out players with less than 3 full 90s"
   ]
  },
  {
   "cell_type": "code",
   "execution_count": 53,
   "metadata": {},
   "outputs": [],
   "source": [
    "df2 = df.tail(2) # Separate the Squad and Opponent Totals rows\n",
    "df.drop(df.tail(2).index,inplace=True) # Drop the last 2 rows"
   ]
  },
  {
   "cell_type": "code",
   "execution_count": 54,
   "metadata": {},
   "outputs": [
    {
     "output_type": "execute_result",
     "data": {
      "text/plain": [
       "            Player Nationality Position   Age  Matches Played  \\\n",
       "21     Squad Total         NaN      NaN  26.7              27   \n",
       "22  Opponent Total         NaN      NaN  27.0              27   \n",
       "\n",
       "    Matches Started  Minutes Played  90s Played  Goals  Assists  ...  \\\n",
       "21              297          2430.0        27.0   1.52     1.04  ...   \n",
       "22              297          2430.0        27.0   0.89     0.63  ...   \n",
       "\n",
       "    Offsides  Penalties Won  Penalties Given Away  Own Goals  Recoveries  \\\n",
       "21      1.78           0.30                  0.07       0.04        87.0   \n",
       "22      1.41           0.07                  0.30       0.04        82.8   \n",
       "\n",
       "    Aerials Won  Aerials Lost  Aerial Win %  Tackles Attempted  Tackles Won %  \n",
       "21         16.5          14.2          53.7              27.71       0.660411  \n",
       "22         14.2          16.5          46.3              26.60       0.635338  \n",
       "\n",
       "[2 rows x 217 columns]"
      ],
      "text/html": "<div>\n<style scoped>\n    .dataframe tbody tr th:only-of-type {\n        vertical-align: middle;\n    }\n\n    .dataframe tbody tr th {\n        vertical-align: top;\n    }\n\n    .dataframe thead th {\n        text-align: right;\n    }\n</style>\n<table border=\"1\" class=\"dataframe\">\n  <thead>\n    <tr style=\"text-align: right;\">\n      <th></th>\n      <th>Player</th>\n      <th>Nationality</th>\n      <th>Position</th>\n      <th>Age</th>\n      <th>Matches Played</th>\n      <th>Matches Started</th>\n      <th>Minutes Played</th>\n      <th>90s Played</th>\n      <th>Goals</th>\n      <th>Assists</th>\n      <th>...</th>\n      <th>Offsides</th>\n      <th>Penalties Won</th>\n      <th>Penalties Given Away</th>\n      <th>Own Goals</th>\n      <th>Recoveries</th>\n      <th>Aerials Won</th>\n      <th>Aerials Lost</th>\n      <th>Aerial Win %</th>\n      <th>Tackles Attempted</th>\n      <th>Tackles Won %</th>\n    </tr>\n  </thead>\n  <tbody>\n    <tr>\n      <th>21</th>\n      <td>Squad Total</td>\n      <td>NaN</td>\n      <td>NaN</td>\n      <td>26.7</td>\n      <td>27</td>\n      <td>297</td>\n      <td>2430.0</td>\n      <td>27.0</td>\n      <td>1.52</td>\n      <td>1.04</td>\n      <td>...</td>\n      <td>1.78</td>\n      <td>0.30</td>\n      <td>0.07</td>\n      <td>0.04</td>\n      <td>87.0</td>\n      <td>16.5</td>\n      <td>14.2</td>\n      <td>53.7</td>\n      <td>27.71</td>\n      <td>0.660411</td>\n    </tr>\n    <tr>\n      <th>22</th>\n      <td>Opponent Total</td>\n      <td>NaN</td>\n      <td>NaN</td>\n      <td>27.0</td>\n      <td>27</td>\n      <td>297</td>\n      <td>2430.0</td>\n      <td>27.0</td>\n      <td>0.89</td>\n      <td>0.63</td>\n      <td>...</td>\n      <td>1.41</td>\n      <td>0.07</td>\n      <td>0.30</td>\n      <td>0.04</td>\n      <td>82.8</td>\n      <td>14.2</td>\n      <td>16.5</td>\n      <td>46.3</td>\n      <td>26.60</td>\n      <td>0.635338</td>\n    </tr>\n  </tbody>\n</table>\n<p>2 rows × 217 columns</p>\n</div>"
     },
     "metadata": {},
     "execution_count": 54
    }
   ],
   "source": [
    "df2"
   ]
  },
  {
   "cell_type": "code",
   "execution_count": 55,
   "metadata": {},
   "outputs": [
    {
     "output_type": "stream",
     "name": "stdout",
     "text": [
      "<class 'pandas.core.frame.DataFrame'>\nInt64Index: 21 entries, 0 to 20\nColumns: 217 entries, Player to Tackles Won %\ndtypes: float64(211), int64(2), object(4)\nmemory usage: 35.8+ KB\n"
     ]
    }
   ],
   "source": [
    "df.info()"
   ]
  }
 ]
}