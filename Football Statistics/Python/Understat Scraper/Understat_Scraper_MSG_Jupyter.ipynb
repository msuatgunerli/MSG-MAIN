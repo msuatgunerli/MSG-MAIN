{
 "metadata": {
  "language_info": {
   "codemirror_mode": {
    "name": "ipython",
    "version": 3
   },
   "file_extension": ".py",
   "mimetype": "text/x-python",
   "name": "python",
   "nbconvert_exporter": "python",
   "pygments_lexer": "ipython3",
   "version": "3.8.5-final"
  },
  "orig_nbformat": 2,
  "kernelspec": {
   "name": "python3",
   "display_name": "Python 3.8.5 64-bit (conda)",
   "metadata": {
    "interpreter": {
     "hash": "a8f61be024eba58adef938c9aa1e29e02cb3dece83a5348b1a2dafd16a070453"
    }
   }
  }
 },
 "nbformat": 4,
 "nbformat_minor": 2,
 "cells": [
  {
   "cell_type": "code",
   "execution_count": null,
   "metadata": {},
   "outputs": [],
   "source": [
    "# 1)    import modules and packages\n",
    "\n",
    "import requests #get url\n",
    "from bs4 import BeautifulSoup #parse\n",
    "import json\n",
    "import pandas as pd\n",
    "import matplotlib.pyplot as plt"
   ]
  },
  {
   "cell_type": "code",
   "execution_count": null,
   "metadata": {},
   "outputs": [],
   "source": [
    "# 2)  create url and scrape single game shots\n",
    "\n",
    "base_url = \"https://understat.com/match/\"\n",
    "match_id =  str(input('Enter Match ID:'))\n",
    "url = base_url + match_id"
   ]
  },
  {
   "cell_type": "code",
   "execution_count": null,
   "metadata": {},
   "outputs": [],
   "source": [
    "# 3)    Use request and BeautifulSoup to scrape and parse data\n",
    "\n",
    "res = requests.get(url)\n",
    "soup = BeautifulSoup(res.content, 'lxml') #inspect page - sources - look at the html and select the scripts with variable you want to parse next\n",
    "scripts = soup.find_all('script') # find all the scripts in the page"
   ]
  },
  {
   "cell_type": "code",
   "execution_count": null,
   "metadata": {},
   "outputs": [],
   "source": [
    "#   get shots data only\n",
    "\n",
    "strings = scripts[1].string # her script tag list bir list item, ShotsData bu element listteki ikinci eleman then convert into string\n",
    "\n",
    "#   strip the unnecessary bits\n",
    "\n",
    "index_start = strings.index(\"('\")+2 # start stripping 2 digits after the first (' encountered\n",
    "index_end = strings.index(\"')\") # end stripping after the ') sequence is encountered\n",
    "\n",
    "json_data = strings[index_start:index_end]\n",
    "json_data = json_data.encode('utf8').decode('unicode_escape')\n",
    "\n",
    "#   convert strings to json format\n",
    "\n",
    "data = json.loads(json_data)\n",
    "#data"
   ]
  },
  {
   "cell_type": "code",
   "execution_count": null,
   "metadata": {},
   "outputs": [],
   "source": [
    "# 4)    convert to JSON and a df using pandas\n",
    "\n",
    "team = []\n",
    "minute = []\n",
    "x = []\n",
    "y = []\n",
    "xG = []\n",
    "data_home = data['h']\n",
    "data_away = data['a']\n",
    "player = []\n",
    "result = []\n",
    "hora = []\n",
    "\n",
    "for index in range(len(data_home)):\n",
    "    for key in data_home[index]:\n",
    "        if key == 'h_team':\n",
    "            team.append(data_home[index][key])\n",
    "        if key == 'minute':\n",
    "            minute.append(data_home[index][key])\n",
    "        if key == 'X':\n",
    "            x.append(data_home[index][key])\n",
    "        if key == 'Y':\n",
    "            y.append(data_home[index][key])\n",
    "        if key == 'xG':\n",
    "            xG.append(data_home[index][key])\n",
    "        if key == 'player':\n",
    "            player.append(data_home[index][key])\n",
    "        if key == 'result':\n",
    "            result.append(data_home[index][key])\n",
    "        if key == 'h_a':\n",
    "            hora.append(data_home[index][key])\n",
    "        \n",
    "\n",
    "for index in range(len(data_away)):\n",
    "    for key in data_away[index]:\n",
    "        if key == 'a_team':\n",
    "            team.append(data_away[index][key])\n",
    "        if key == 'minute':\n",
    "            minute.append(data_away[index][key])   \n",
    "        if key == 'X':\n",
    "            x.append(data_away[index][key])\n",
    "        if key == 'Y':\n",
    "            y.append(data_away[index][key])\n",
    "        if key == 'xG':\n",
    "            xG.append(data_away[index][key])\n",
    "        if key == 'player':\n",
    "            player.append(data_away[index][key])\n",
    "        if key == 'result':\n",
    "            result.append(data_away[index][key])\n",
    "        if key == 'h_a':\n",
    "            hora.append(data_away[index][key])"
   ]
  },
  {
   "cell_type": "code",
   "execution_count": null,
   "metadata": {},
   "outputs": [],
   "source": [
    "# create the dataframe\n",
    "\n",
    "col_names = [ 'team', 'minute', 'x', 'y', 'xG', 'player', 'result', 'hora']\n",
    "df = pd.DataFrame([team,minute,x,y,xG,player,result,hora], index = col_names)\n",
    "df = df.T # transpose\n",
    "\n",
    "df['x'] = pd.to_numeric(df['x'])\n",
    "df['y'] = pd.to_numeric(df['y'])\n",
    "df['xG'] = pd.to_numeric(df['xG']) #convert xG into numeric for bubble size\n",
    "\n",
    "df.loc[df['hora'] == 'h', 'hora'] = 0 # if home rep w/ zero\n",
    "df.loc[df['hora'] == 'a', 'hora'] = 1 # if away rep with one"
   ]
  },
  {
   "cell_type": "code",
   "execution_count": null,
   "metadata": {},
   "outputs": [],
   "source": [
    "df"
   ]
  },
  {
   "cell_type": "code",
   "execution_count": null,
   "metadata": {},
   "outputs": [],
   "source": [
    "#team_identifier = df.team.unique()\n",
    "#Home_Team = team_identifier[0]\n",
    "#Away_Team = team_identifier[1]"
   ]
  },
  {
   "cell_type": "code",
   "execution_count": null,
   "metadata": {},
   "outputs": [],
   "source": [
    "#df['xG'] = 100*(df['xG']) \n",
    "ShotChart = plt.scatter(df.x, df.y, s = 1000*df.xG, c = df.hora)\n",
    "plt.xlim([0.8,1])\n",
    "plt.ylim([1,0])\n",
    "\n",
    "#label = f\"{df['player']}, {df['xG']}\"\n",
    "#plt.annotate(label, (df['x'], df['y']), textcoords=\"offset points\")"
   ]
  }
 ]
}