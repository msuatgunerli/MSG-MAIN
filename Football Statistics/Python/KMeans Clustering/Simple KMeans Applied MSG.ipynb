{
 "metadata": {
  "language_info": {
   "codemirror_mode": {
    "name": "ipython",
    "version": 3
   },
   "file_extension": ".py",
   "mimetype": "text/x-python",
   "name": "python",
   "nbconvert_exporter": "python",
   "pygments_lexer": "ipython3",
   "version": "3.8.5-final"
  },
  "orig_nbformat": 2,
  "kernelspec": {
   "name": "python3",
   "display_name": "Python 3",
   "language": "python"
  }
 },
 "nbformat": 4,
 "nbformat_minor": 2,
 "cells": [
  {
   "cell_type": "code",
   "execution_count": null,
   "metadata": {},
   "outputs": [],
   "source": [
    "\n",
    "import pandas as pd\n",
    "import numpy as np\n",
    "import matplotlib.pyplot as plt\n",
    "import seaborn as sns\n",
    "from sklearn.preprocessing import StandardScaler\n",
    "from sklearn.cluster import KMeans\n",
    "from sklearn.decomposition import PCA\n",
    "%matplotlib inline\n",
    "sns.set_style('darkgrid') # set the grid style for the seaborn plots"
   ]
  },
  {
   "cell_type": "code",
   "execution_count": null,
   "metadata": {},
   "outputs": [],
   "source": [
    "pd.set_option('display.float_format', lambda x: '%.5f' % x) # suppress scientific notation in pandas"
   ]
  },
  {
   "cell_type": "code",
   "execution_count": null,
   "metadata": {},
   "outputs": [],
   "source": [
    "df = pd.read_excel('EPL Player Stats All Time.xlsx', index_col=0)"
   ]
  },
  {
   "cell_type": "code",
   "execution_count": null,
   "metadata": {},
   "outputs": [],
   "source": [
    "#df.set_index('Player_ID', inplace=True) # set column 'Player_ID' as index w/o creating a duplicate\n",
    "df.index = df['Player_ID']\n",
    "#df.dropna(inplace=True)\n",
    "df.fillna(0, inplace=True)\n",
    "#df.isnull().sum()\n",
    "df = df[df['90s Played'] >= 0.01] # drop players who have no appearances"
   ]
  },
  {
   "cell_type": "code",
   "execution_count": null,
   "metadata": {},
   "outputs": [],
   "source": [
    "#df.columns.values.tolist()"
   ]
  },
  {
   "cell_type": "code",
   "execution_count": null,
   "metadata": {},
   "outputs": [],
   "source": [
    "#salaries['Base Salary'] = salaries['Base Salary'].apply(lambda salary: int(salary[1:].replace(',', '')))\n",
    "#salaries['Guaranteed Compensation'] = salaries['Guaranteed Compensation'].apply(lambda salary: int(salary[1:].replace(',', '')))\n",
    "#salaries = salaries.sort_values('Date').groupby('Player').last()\n",
    "#salaries.rename(columns = {'Base Salary': 'Base Salary (USD)', 'Guaranteed Compensation': 'Guaranteed Compensation (USD)'}, inplace = True)\n",
    "#salaries.reset_index(inplace = True) # reset the index"
   ]
  },
  {
   "cell_type": "code",
   "execution_count": null,
   "metadata": {},
   "outputs": [],
   "source": [
    "dft = df[['Player_ID','Non-Penalty xG', 'xA','Dribbles Completed']]\n",
    "df1 = dft.drop(['Player_ID'], axis = 1)"
   ]
  },
  {
   "cell_type": "code",
   "execution_count": null,
   "metadata": {},
   "outputs": [],
   "source": [
    "#Feature scaling\n",
    "\n",
    "scaler = StandardScaler()\n",
    "scaler.fit(df1) # compute the mean and standard deviation to be used for later scaling\n",
    "#StandardScaler(copy=True, with_mean=True, with_std=True)\n",
    "scaled_features = scaler.transform(df1)\n",
    "scaled_data = pd.DataFrame(data=scaled_features, columns=df1.columns)\n",
    "scaled_data.head(3)"
   ]
  },
  {
   "cell_type": "code",
   "execution_count": null,
   "metadata": {},
   "outputs": [],
   "source": [
    "# KMeans clustering\n",
    "\n",
    "kmeans = KMeans(n_clusters=3)\n",
    "kmeans.fit(X=scaled_data)\n",
    "#For those of you who know how this algorithm works under the hood, we have set the maximum number of iterations of the k-means algorithm for a single run to the default value of 300. And, we have set the number of time the k-means algorithm will be run with different centroid seeds to the default value of 10. The final results will be the best output of these 10 consecutive runs in terms of inertia.\n",
    "dft['Cluster Label'] = kmeans.labels_"
   ]
  },
  {
   "cell_type": "code",
   "execution_count": null,
   "metadata": {},
   "outputs": [],
   "source": [
    "cluster_0 = dft[dft['Cluster Label']==0]['Player_ID']\n",
    "cluster_1 = dft[dft['Cluster Label']==1]['Player_ID']\n",
    "cluster_2 = dft[dft['Cluster Label']==2]['Player_ID']"
   ]
  },
  {
   "cell_type": "code",
   "execution_count": null,
   "metadata": {},
   "outputs": [],
   "source": [
    "print('\\nCluster 0 players:\\n')\n",
    "print(cluster_0)\n",
    "print('\\n\\n')\n",
    "print('Cluster 1 players:\\n')\n",
    "print(cluster_1)\n",
    "print('\\n\\n')\n",
    "print('Cluster 2 players:\\n')\n",
    "print(cluster_2)"
   ]
  },
  {
   "cell_type": "code",
   "execution_count": null,
   "metadata": {},
   "outputs": [],
   "source": [
    "cluster_0_avg = dft[dft['Cluster Label']==0].mean()\n",
    "cluster_1_avg = dft[dft['Cluster Label']==1].mean()\n",
    "cluster_2_avg = dft[dft['Cluster Label']==2].mean()"
   ]
  },
  {
   "cell_type": "code",
   "execution_count": null,
   "metadata": {},
   "outputs": [],
   "source": [
    "avg_metric_values = pd.DataFrame(\n",
    "    {'cluster 0 avg': cluster_0_avg, \n",
    "     'cluster 1 avg': cluster_1_avg, \n",
    "     'cluster 2 avg': cluster_2_avg}\n",
    ")\n",
    "avg_metric_values"
   ]
  }
 ]
}